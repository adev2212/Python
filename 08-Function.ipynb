{
 "cells": [
  {
   "cell_type": "markdown",
   "id": "72d00992",
   "metadata": {},
   "source": [
    "# Functions:\n",
    "\n",
    "In Python, functions are reusable blocks of code that perform a specific task. They allow you to break down your code into smaller, organized, and modular pieces. Here's how you define and call functions:\n",
    "\n",
    "### Defining a function:\n",
    "You can define a function using the `def` keyword followed by the function name, parentheses for parameters (if any), and a colon. The function body is indented and contains the code to be executed when the function is called."
   ]
  },
  {
   "cell_type": "code",
   "execution_count": 1,
   "id": "b9b47ed4",
   "metadata": {},
   "outputs": [],
   "source": [
    "def greet():\n",
    "    print(\"Hello, welcome!\")\n",
    "\n",
    "def multiply(a, b):\n",
    "    return a * b"
   ]
  },
  {
   "cell_type": "markdown",
   "id": "655777d6",
   "metadata": {},
   "source": [
    "## Calling a function:\n",
    "To execute a function, you simply write its name followed by parentheses. If the function has parameters, you pass the required values inside the parentheses."
   ]
  },
  {
   "cell_type": "code",
   "execution_count": 2,
   "id": "75957f86",
   "metadata": {},
   "outputs": [
    {
     "name": "stdout",
     "output_type": "stream",
     "text": [
      "Hello, welcome!\n",
      "12\n"
     ]
    }
   ],
   "source": [
    "greet()\n",
    "\n",
    "result = multiply(3, 4)\n",
    "print(result)"
   ]
  },
  {
   "cell_type": "markdown",
   "id": "899e6dc6",
   "metadata": {},
   "source": [
    "## Function parameters and return values:\n",
    "Functions can accept parameters, which are values passed into the function, and return values, which are values returned by the function after it finishes its execution."
   ]
  },
  {
   "cell_type": "code",
   "execution_count": 3,
   "id": "ceca3d01",
   "metadata": {},
   "outputs": [
    {
     "name": "stdout",
     "output_type": "stream",
     "text": [
      "5\n"
     ]
    }
   ],
   "source": [
    "def add(a, b):\n",
    "    return a + b\n",
    "\n",
    "result = add(2, 3)\n",
    "print(result)"
   ]
  },
  {
   "cell_type": "markdown",
   "id": "7329dfa7",
   "metadata": {},
   "source": [
    "## Importing and using modules:\n",
    "Modules in Python are files containing Python code that define functions, classes, and variables. You can import these modules into your code to use their functionalities."
   ]
  },
  {
   "cell_type": "code",
   "execution_count": 4,
   "id": "427c7cf0",
   "metadata": {},
   "outputs": [
    {
     "name": "stdout",
     "output_type": "stream",
     "text": [
      "4.0\n"
     ]
    }
   ],
   "source": [
    "import math\n",
    "\n",
    "result = math.sqrt(16)\n",
    "print(result)"
   ]
  },
  {
   "cell_type": "markdown",
   "id": "dc5006a5",
   "metadata": {},
   "source": [
    "You can also import specific functions or variables from a module using the `from` keyword."
   ]
  },
  {
   "cell_type": "code",
   "execution_count": 5,
   "id": "9062d3fd",
   "metadata": {},
   "outputs": [
    {
     "name": "stdout",
     "output_type": "stream",
     "text": [
      "3.141592653589793\n"
     ]
    }
   ],
   "source": [
    "from math import pi\n",
    "\n",
    "print(pi)"
   ]
  },
  {
   "cell_type": "markdown",
   "id": "1f2aecc7",
   "metadata": {},
   "source": [
    "These are the basics of defining functions, passing parameters, returning values, and importing modules in Python. Functions and modules allow you to write modular and reusable code, making your programs more organized and efficient."
   ]
  },
  {
   "cell_type": "markdown",
   "id": "5202ee5e",
   "metadata": {},
   "source": [
    "### Function to calculate the area of circle"
   ]
  },
  {
   "cell_type": "code",
   "execution_count": 6,
   "id": "0ca9cc75",
   "metadata": {},
   "outputs": [
    {
     "name": "stdout",
     "output_type": "stream",
     "text": [
      "Enter the radius: 4\n",
      "Area of the circle: 50.24\n"
     ]
    }
   ],
   "source": [
    "def circle_area(radius):\n",
    "    area = 3.14 * radius * radius\n",
    "    return area\n",
    "\n",
    "while True:\n",
    "    radius = input(\"Enter the radius: \")\n",
    "    if radius.isdigit():\n",
    "        area = circle_area(int(radius))\n",
    "        print(\"Area of the circle:\", area)\n",
    "        break\n",
    "    else:\n",
    "        print(\"Enter integer value\")"
   ]
  },
  {
   "cell_type": "markdown",
   "id": "c37e3eea",
   "metadata": {},
   "source": [
    "### Function to check if a number is prime:\n",
    "- The is_prime function first checks if the number is less than 2, which is not prime by definition.\n",
    "- The is_prime function then checks if the number is divisible by any number from 2 up to the square root of the number. If it is, then the number is not prime and the function returns False.\n",
    "- If none of the numbers from 2 up to the square root of the number divide the number evenly, then the number is prime and the function returns True.\n",
    "- The program has a main loop that prompts the user to enter an integer greater than 1.\n",
    "- The input is checked if it's a valid integer using the isdigit() method.\n",
    "- If the input is valid, the is_prime function is called on the input and prints a message indicating whether the input is a prime number or not.\n",
    "- If the input is not valid, the program prompts the user to enter a valid integer greater than 1."
   ]
  },
  {
   "cell_type": "code",
   "execution_count": 7,
   "id": "398e9e11",
   "metadata": {},
   "outputs": [
    {
     "name": "stdout",
     "output_type": "stream",
     "text": [
      "Enter an integer greater than 1: 5\n",
      "5 is a prime number\n"
     ]
    }
   ],
   "source": [
    "def is_prime(num):\n",
    "    if num < 2:\n",
    "        return False\n",
    "    for i in range(2, int(num ** 0.5) + 1):\n",
    "        if num % i == 0:\n",
    "            return False\n",
    "    return True\n",
    "\n",
    "while True:\n",
    "    num = input(\"Enter an integer greater than 1: \")\n",
    "    if num.isdigit():\n",
    "        if is_prime(int(num)):\n",
    "            print(f\"{num} is a prime number\")\n",
    "        else:\n",
    "            print(f\"{num} is not a prime number\")\n",
    "        break\n",
    "    else:\n",
    "        print(\"Please enter a valid integer greater than 1.\")"
   ]
  },
  {
   "cell_type": "code",
   "execution_count": 8,
   "id": "52127d2f",
   "metadata": {},
   "outputs": [
    {
     "name": "stdout",
     "output_type": "stream",
     "text": [
      "Enter the number: 6\n",
      "6 is \n",
      "Not a Prime\n"
     ]
    }
   ],
   "source": [
    "def prime(num):\n",
    "    if num > 2:\n",
    "        for i in range(2,int(num**0.5)+1):\n",
    "            if num % i == 0:\n",
    "                print(\"Not a Prime\")\n",
    "                break\n",
    "        else:\n",
    "            print(\"Prime\")         \n",
    "    else:\n",
    "        if num == 1:\n",
    "            print('Not a Prime')\n",
    "        else:\n",
    "            print('Prime')\n",
    "\n",
    "while True:\n",
    "    num = input(\"Enter the number: \")\n",
    "    if num.isdigit():\n",
    "        print(num, \"is \")\n",
    "        prime(int(num))\n",
    "        break\n",
    "    else:\n",
    "        print(\"Please enter an integer value.\")"
   ]
  },
  {
   "cell_type": "markdown",
   "id": "cf4389b4",
   "metadata": {},
   "source": [
    "### Celsius To Fahrenheit\n",
    "Function called celsius_to_fahrenheit that takes a temperature in Celsius as an argument and returns the corresponding temperature in Fahrenheit. \n",
    "- Formula = (celsius * 9/5) + 32.\n",
    "\n",
    "The code also includes a while loop that repeatedly prompts the user to enter a temperature in Celsius until they enter a valid integer value. Once a valid value is entered, the celsius_to_fahrenheit function is called to convert the Celsius temperature to Fahrenheit, and the result is printed out in a user-friendly message that includes both the original temperature in Celsius and the corresponding temperature in Fahrenheit."
   ]
  },
  {
   "cell_type": "code",
   "execution_count": 9,
   "id": "628d9918",
   "metadata": {},
   "outputs": [
    {
     "name": "stdout",
     "output_type": "stream",
     "text": [
      "Enter the temperature in Celsius: 56\n",
      "56 degrees Celsius is 132.8 degrees Fahrenheit\n"
     ]
    }
   ],
   "source": [
    "def celsius_to_fahrenheit(celsius):\n",
    "    fahrenheit = (celsius * 9/5) + 32\n",
    "    return fahrenheit\n",
    "\n",
    "while True:\n",
    "    celsius = input(\"Enter the temperature in Celsius: \")\n",
    "    if celsius.isdigit():\n",
    "        print(celsius, \"degrees Celsius is\", celsius_to_fahrenheit(int(celsius)), \"degrees Fahrenheit\")\n",
    "        break\n",
    "    else:\n",
    "        print(\"Please enter an integer value.\")"
   ]
  },
  {
   "cell_type": "markdown",
   "id": "a48386f5",
   "metadata": {},
   "source": [
    "### Factorial:\n",
    "It calculates the factorial of a given non-negative integer using recursion. It then prompts the user to enter a non-negative integer, checks if the input is a valid non-negative integer using the isdigit() method, and calls the factorial function on the input if it is valid. If the input is not valid, the program prompts the user to enter a valid non-negative integer."
   ]
  },
  {
   "cell_type": "code",
   "execution_count": 10,
   "id": "fe67acc1",
   "metadata": {},
   "outputs": [
    {
     "name": "stdout",
     "output_type": "stream",
     "text": [
      "Enter a non-negative integer: 6\n",
      "720\n"
     ]
    }
   ],
   "source": [
    "def factorial(num):\n",
    "    if num == 0:\n",
    "        return 1\n",
    "    else:\n",
    "        return num * factorial(num-1)\n",
    "\n",
    "while True:\n",
    "    num = input(\"Enter a non-negative integer: \")\n",
    "    if num.isdigit():\n",
    "        print(factorial(int(num)))\n",
    "        break\n",
    "    else:\n",
    "        print(\"Please enter a valid non-negative integer.\")"
   ]
  },
  {
   "cell_type": "markdown",
   "id": "57936486",
   "metadata": {},
   "source": [
    "###### Count Vowels:\n",
    "- It takes a string as input and counts the number of vowels (i.e., 'a', 'e', 'i', 'o', 'u' and their capital versions) in the input string.\n",
    "- It first initializes the variable \"vowels\" to a string of all the vowels. Then it initializes the variable \"count\" to 0, which will be used to keep track of the number of vowels found in the input string.\n",
    "- The code then loops through each character in the input string using a \"for\" loop. For each character, it checks whether it is a vowel by using the \"in\" operator to see if the character is in the \"vowels\" string. If the character is a vowel, the \"count\" variable is incremented by 1.\n",
    "- Finally, the function returns the count of vowels found in the input string."
   ]
  },
  {
   "cell_type": "code",
   "execution_count": 11,
   "id": "335fe847",
   "metadata": {},
   "outputs": [
    {
     "name": "stdout",
     "output_type": "stream",
     "text": [
      "Enter a string: anuradha\n",
      "The number of vowels in the string is: 4\n"
     ]
    }
   ],
   "source": [
    "def count_vowels(string):\n",
    "    vowels = 'aeiouAEIOU'\n",
    "    count = 0\n",
    "    for char in string:\n",
    "        if char in vowels:\n",
    "            count += 1\n",
    "    return count\n",
    "\n",
    "input_str = input(\"Enter a string: \")\n",
    "num_vowels = count_vowels(input_str)\n",
    "print(\"The number of vowels in the string is:\", num_vowels)"
   ]
  },
  {
   "cell_type": "markdown",
   "id": "749ff78f",
   "metadata": {},
   "source": [
    "## Funtion for Increment"
   ]
  },
  {
   "cell_type": "markdown",
   "id": "8bea5de5",
   "metadata": {},
   "source": [
    "Function: `increment(number, by)`\n",
    "   Description: Increments a number by a given value.\n",
    "   Parameters:\n",
    "   - `number`: The number to be incremented.\n",
    "   - `by`: The value by which the number should be incremented."
   ]
  },
  {
   "cell_type": "code",
   "execution_count": 12,
   "id": "1d8be20e",
   "metadata": {},
   "outputs": [],
   "source": [
    "def increment(number, by):\n",
    "    pass"
   ]
  },
  {
   "cell_type": "markdown",
   "id": "fcc3aaa6",
   "metadata": {},
   "source": [
    "Function: `multiply(*lists)`\n",
    "   Description: Multiplies all the numbers provided as arguments.\n",
    "   Parameters:\n",
    "   - `*lists`: Variable number of arguments representing the numbers to be multiplied.\n"
   ]
  },
  {
   "cell_type": "code",
   "execution_count": 13,
   "id": "6ae02407",
   "metadata": {},
   "outputs": [
    {
     "name": "stdout",
     "output_type": "stream",
     "text": [
      "120\n"
     ]
    }
   ],
   "source": [
    "def multiply(*lists):\n",
    "    total = 1\n",
    "    for number in lists:\n",
    "        total *= number\n",
    "    return total \n",
    "\n",
    "print(multiply(2,3,4,5))"
   ]
  },
  {
   "cell_type": "code",
   "execution_count": 14,
   "id": "9efa0699",
   "metadata": {},
   "outputs": [
    {
     "name": "stdout",
     "output_type": "stream",
     "text": [
      "start\n",
      "120\n",
      "finish\n"
     ]
    }
   ],
   "source": [
    "def multiply(*lists):\n",
    "    total = 1\n",
    "    for number in lists:\n",
    "        total *= number\n",
    "    return total \n",
    "\n",
    "print(\"start\")\n",
    "print(multiply(2,3,4,5))\n",
    "print(\"finish\")"
   ]
  },
  {
   "cell_type": "markdown",
   "id": "8fab2bd2",
   "metadata": {},
   "source": [
    "Function: `save_user(**user)`\n",
    "   Description: Prints the details of a user.\n",
    "   Parameters:\n",
    "   - `**user`: Variable number of keyword arguments representing the user details."
   ]
  },
  {
   "cell_type": "code",
   "execution_count": 15,
   "id": "aca3b164",
   "metadata": {},
   "outputs": [
    {
     "name": "stdout",
     "output_type": "stream",
     "text": [
      "{'id': 1, 'name': 'admin'}\n"
     ]
    }
   ],
   "source": [
    "def save_user(**user):\n",
    "    print(user)\n",
    "    \n",
    "save_user(id = 1, name = \"admin\")"
   ]
  },
  {
   "cell_type": "markdown",
   "id": "0850f1e9",
   "metadata": {},
   "source": [
    "Function: `add_numbers(a, b)`\n",
    "   Description: Adds two numbers and returns the result.\n",
    "   Parameters:\n",
    "   - `a`: The first number.\n",
    "   - `b`: The second number."
   ]
  },
  {
   "cell_type": "code",
   "execution_count": 16,
   "id": "89df5e50",
   "metadata": {},
   "outputs": [
    {
     "name": "stdout",
     "output_type": "stream",
     "text": [
      "8\n"
     ]
    }
   ],
   "source": [
    "def add_numbers(a, b):\n",
    "    return a + b\n",
    "\n",
    "result = add_numbers(3, 5)\n",
    "print(result)"
   ]
  },
  {
   "cell_type": "markdown",
   "id": "546717bf",
   "metadata": {},
   "source": [
    "Function: `factorial(n)`\n",
    "   Description: Calculates the factorial of a given number.\n",
    "   Parameters:\n",
    "   - `n`: The number for which factorial is to be calculated."
   ]
  },
  {
   "cell_type": "code",
   "execution_count": 17,
   "id": "c431eb76",
   "metadata": {},
   "outputs": [
    {
     "name": "stdout",
     "output_type": "stream",
     "text": [
      "120\n"
     ]
    }
   ],
   "source": [
    "def factorial(n):\n",
    "    if n == 0:\n",
    "        return 1\n",
    "    else:\n",
    "        return n * factorial(n-1)\n",
    "\n",
    "result = factorial(5)\n",
    "print(result)"
   ]
  },
  {
   "cell_type": "markdown",
   "id": "dd50d9d8",
   "metadata": {},
   "source": [
    "Function: `find_max(numbers)`\n",
    "   Description: Finds the maximum value from a list of numbers.\n",
    "   Parameters:\n",
    "   - `numbers`: A list of numbers."
   ]
  },
  {
   "cell_type": "code",
   "execution_count": 18,
   "id": "d6022d97",
   "metadata": {},
   "outputs": [
    {
     "name": "stdout",
     "output_type": "stream",
     "text": [
      "10\n"
     ]
    }
   ],
   "source": [
    "def find_max(numbers):\n",
    "    max_value = numbers[0]\n",
    "    for i in numbers:\n",
    "        if i > max_value:\n",
    "            max_value = i\n",
    "    return max_value\n",
    "\n",
    "result = find_max([3, 5, 2, 8, 10, 1])\n",
    "print(result)"
   ]
  },
  {
   "cell_type": "markdown",
   "id": "1565b071",
   "metadata": {},
   "source": [
    "Function: `word_frequency(text)`\n",
    "   Description: Calculates the frequency of words in a given text.\n",
    "   Parameters:\n",
    "   - `text`: The input text for which word frequency is to be calculated."
   ]
  },
  {
   "cell_type": "code",
   "execution_count": 19,
   "id": "87ce1000",
   "metadata": {},
   "outputs": [
    {
     "name": "stdout",
     "output_type": "stream",
     "text": [
      "{'the': 2, 'quick': 1, 'brown': 1, 'fox': 1, 'jumps': 1, 'over': 1, 'lazy': 1, 'dog': 1}\n"
     ]
    }
   ],
   "source": [
    "def word_frequency(text):\n",
    "    words = text.split()\n",
    "    frequency = {}\n",
    "    for word in words:\n",
    "        if word in frequency:\n",
    "            frequency[word] += 1\n",
    "        else:\n",
    "            frequency[word] = 1\n",
    "    return frequency\n",
    "\n",
    "result = word_frequency(\"the quick brown fox jumps over the lazy dog\")\n",
    "print(result)"
   ]
  },
  {
   "cell_type": "markdown",
   "id": "ecf53dba",
   "metadata": {},
   "source": [
    "Function: `swap_first_last(text)`\n",
    "    Description: Swaps the first and last characters of a given text.\n",
    "    Parameters:\n",
    "    - `text`: The input text to perform the swap operation."
   ]
  },
  {
   "cell_type": "code",
   "execution_count": 20,
   "id": "b2416c03",
   "metadata": {},
   "outputs": [
    {
     "name": "stdout",
     "output_type": "stream",
     "text": [
      "oellh\n"
     ]
    }
   ],
   "source": [
    "def swap_first_last(text):\n",
    "    if len(text) <= 1:\n",
    "        return text\n",
    "    else:\n",
    "        return text[-1] + text[1:-1] + text[0]\n",
    "\n",
    "result = swap_first_last(\"hello\")\n",
    "print(result)"
   ]
  },
  {
   "cell_type": "code",
   "execution_count": 21,
   "id": "94595165",
   "metadata": {},
   "outputs": [],
   "source": [
    "import numpy as np\n",
    "import pandas as pd"
   ]
  },
  {
   "cell_type": "markdown",
   "id": "4fb9190c",
   "metadata": {},
   "source": [
    "# Lambda Function"
   ]
  },
  {
   "cell_type": "code",
   "execution_count": 22,
   "id": "a8b17c2f",
   "metadata": {},
   "outputs": [],
   "source": [
    "def addition(a,b):\n",
    "    return a+b"
   ]
  },
  {
   "cell_type": "code",
   "execution_count": 23,
   "id": "4d071195",
   "metadata": {},
   "outputs": [
    {
     "data": {
      "text/plain": [
       "9"
      ]
     },
     "execution_count": 23,
     "metadata": {},
     "output_type": "execute_result"
    }
   ],
   "source": [
    "addition(4,5)"
   ]
  },
  {
   "cell_type": "code",
   "execution_count": 24,
   "id": "698e35d6",
   "metadata": {},
   "outputs": [],
   "source": [
    "add=lambda a,b:a+b"
   ]
  },
  {
   "cell_type": "code",
   "execution_count": 25,
   "id": "9ee0e326",
   "metadata": {},
   "outputs": [
    {
     "data": {
      "text/plain": [
       "9"
      ]
     },
     "execution_count": 25,
     "metadata": {},
     "output_type": "execute_result"
    }
   ],
   "source": [
    "add(4,5)"
   ]
  },
  {
   "cell_type": "code",
   "execution_count": 26,
   "id": "7336a7ae",
   "metadata": {},
   "outputs": [],
   "source": [
    "def even(n):\n",
    "    n%2==0\n",
    "    return True"
   ]
  },
  {
   "cell_type": "code",
   "execution_count": 27,
   "id": "04e85124",
   "metadata": {},
   "outputs": [
    {
     "data": {
      "text/plain": [
       "True"
      ]
     },
     "execution_count": 27,
     "metadata": {},
     "output_type": "execute_result"
    }
   ],
   "source": [
    "even(24)"
   ]
  },
  {
   "cell_type": "code",
   "execution_count": 28,
   "id": "74904dbd",
   "metadata": {},
   "outputs": [],
   "source": [
    "even=lambda a:a%2==0"
   ]
  },
  {
   "cell_type": "code",
   "execution_count": 29,
   "id": "cce03b87",
   "metadata": {},
   "outputs": [
    {
     "data": {
      "text/plain": [
       "False"
      ]
     },
     "execution_count": 29,
     "metadata": {},
     "output_type": "execute_result"
    }
   ],
   "source": [
    "even(13)"
   ]
  },
  {
   "cell_type": "code",
   "execution_count": 30,
   "id": "62d590d4",
   "metadata": {},
   "outputs": [],
   "source": [
    "def addition3(x,y,z):\n",
    "    return x+y+z"
   ]
  },
  {
   "cell_type": "code",
   "execution_count": 31,
   "id": "604baf78",
   "metadata": {},
   "outputs": [
    {
     "data": {
      "text/plain": [
       "15"
      ]
     },
     "execution_count": 31,
     "metadata": {},
     "output_type": "execute_result"
    }
   ],
   "source": [
    "addition3(4,5,6)"
   ]
  },
  {
   "cell_type": "code",
   "execution_count": 32,
   "id": "60c9cdb4",
   "metadata": {},
   "outputs": [],
   "source": [
    "adds=lambda x,y,z:x+y+z"
   ]
  },
  {
   "cell_type": "code",
   "execution_count": 33,
   "id": "0c576509",
   "metadata": {},
   "outputs": [
    {
     "data": {
      "text/plain": [
       "15"
      ]
     },
     "execution_count": 33,
     "metadata": {},
     "output_type": "execute_result"
    }
   ],
   "source": [
    "adds(4,5,6)"
   ]
  },
  {
   "cell_type": "markdown",
   "id": "731dff8d",
   "metadata": {},
   "source": [
    "## Map Function "
   ]
  },
  {
   "cell_type": "code",
   "execution_count": 34,
   "id": "f05d8c0e",
   "metadata": {},
   "outputs": [],
   "source": [
    "def odd_even(num):\n",
    "    if num%2==0:\n",
    "        return \"The number {} is even\".format(num)\n",
    "    else:\n",
    "        return \"The number {} is odd\".format(num)"
   ]
  },
  {
   "cell_type": "code",
   "execution_count": 35,
   "id": "05b193b0",
   "metadata": {},
   "outputs": [
    {
     "data": {
      "text/plain": [
       "'The number 13 is odd'"
      ]
     },
     "execution_count": 35,
     "metadata": {},
     "output_type": "execute_result"
    }
   ],
   "source": [
    "odd_even(13)"
   ]
  },
  {
   "cell_type": "code",
   "execution_count": 36,
   "id": "2e873e78",
   "metadata": {},
   "outputs": [],
   "source": [
    "lst=[1,2,3,4,5,6,7,8,9]"
   ]
  },
  {
   "cell_type": "code",
   "execution_count": 37,
   "id": "ffe5c1d3",
   "metadata": {},
   "outputs": [
    {
     "data": {
      "text/plain": [
       "['The number 1 is odd',\n",
       " 'The number 2 is even',\n",
       " 'The number 3 is odd',\n",
       " 'The number 4 is even',\n",
       " 'The number 5 is odd',\n",
       " 'The number 6 is even',\n",
       " 'The number 7 is odd',\n",
       " 'The number 8 is even',\n",
       " 'The number 9 is odd']"
      ]
     },
     "execution_count": 37,
     "metadata": {},
     "output_type": "execute_result"
    }
   ],
   "source": [
    "list(map(odd_even,lst))"
   ]
  },
  {
   "cell_type": "code",
   "execution_count": 38,
   "id": "b06d4062",
   "metadata": {},
   "outputs": [],
   "source": [
    "def even(num):\n",
    "    if num%2==0:\n",
    "        return True"
   ]
  },
  {
   "cell_type": "code",
   "execution_count": 39,
   "id": "e983909f",
   "metadata": {},
   "outputs": [
    {
     "data": {
      "text/plain": [
       "<filter at 0x7fe9f2aebac0>"
      ]
     },
     "execution_count": 39,
     "metadata": {},
     "output_type": "execute_result"
    }
   ],
   "source": [
    "filter(even,lst)"
   ]
  },
  {
   "cell_type": "markdown",
   "id": "8489bf08",
   "metadata": {},
   "source": [
    "## List comprehension"
   ]
  },
  {
   "cell_type": "code",
   "execution_count": 40,
   "id": "7d92deae",
   "metadata": {},
   "outputs": [],
   "source": [
    "list1=[i*i for i in lst if i%2==0]"
   ]
  },
  {
   "cell_type": "code",
   "execution_count": 41,
   "id": "89e4b0b5",
   "metadata": {},
   "outputs": [
    {
     "data": {
      "text/plain": [
       "[4, 16, 36, 64]"
      ]
     },
     "execution_count": 41,
     "metadata": {},
     "output_type": "execute_result"
    }
   ],
   "source": [
    "list1"
   ]
  }
 ],
 "metadata": {
  "kernelspec": {
   "display_name": "Python 3 (ipykernel)",
   "language": "python",
   "name": "python3"
  },
  "language_info": {
   "codemirror_mode": {
    "name": "ipython",
    "version": 3
   },
   "file_extension": ".py",
   "mimetype": "text/x-python",
   "name": "python",
   "nbconvert_exporter": "python",
   "pygments_lexer": "ipython3",
   "version": "3.9.13"
  }
 },
 "nbformat": 4,
 "nbformat_minor": 5
}
