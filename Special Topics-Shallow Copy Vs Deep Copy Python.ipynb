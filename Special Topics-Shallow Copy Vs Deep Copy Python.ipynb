{
 "cells": [
  {
   "cell_type": "markdown",
   "id": "2ffe5f76",
   "metadata": {},
   "source": [
    "# copy() \n",
    "- copy() creates a shallow copy of an object.\n",
    "- Shallow copy means that a new object is created, but the contents of the object are not completely duplicated.\n",
    "- Instead, the new object points to the same memory address as the original object, and any changes made to the original object will also be reflected in the new object."
   ]
  },
  {
   "cell_type": "code",
   "execution_count": 1,
   "id": "5ac6faa7",
   "metadata": {},
   "outputs": [],
   "source": [
    "lst1=[1,2,3,4]\n",
    "lst2=lst1"
   ]
  },
  {
   "cell_type": "code",
   "execution_count": 2,
   "id": "5fee47f3",
   "metadata": {},
   "outputs": [],
   "source": [
    "lst2[1]=1000"
   ]
  },
  {
   "cell_type": "code",
   "execution_count": 3,
   "id": "30f05ff3",
   "metadata": {},
   "outputs": [
    {
     "data": {
      "text/plain": [
       "([1, 1000, 3, 4], [1, 1000, 3, 4])"
      ]
     },
     "execution_count": 3,
     "metadata": {},
     "output_type": "execute_result"
    }
   ],
   "source": [
    "lst1,lst2"
   ]
  },
  {
   "cell_type": "markdown",
   "id": "b29b5d82",
   "metadata": {},
   "source": [
    "# nested copy()"
   ]
  },
  {
   "cell_type": "code",
   "execution_count": 4,
   "id": "519763d0",
   "metadata": {},
   "outputs": [],
   "source": [
    "lst3=[[1,2,3,4],[5,6,7,8]]\n",
    "lst4=lst3.copy()"
   ]
  },
  {
   "cell_type": "code",
   "execution_count": 5,
   "id": "f55645c0",
   "metadata": {},
   "outputs": [],
   "source": [
    "lst3[1][0]=100"
   ]
  },
  {
   "cell_type": "code",
   "execution_count": 6,
   "id": "bec551e1",
   "metadata": {},
   "outputs": [
    {
     "data": {
      "text/plain": [
       "([[1, 2, 3, 4], [100, 6, 7, 8]], [[1, 2, 3, 4], [100, 6, 7, 8]])"
      ]
     },
     "execution_count": 6,
     "metadata": {},
     "output_type": "execute_result"
    }
   ],
   "source": [
    "lst3,lst4"
   ]
  },
  {
   "cell_type": "code",
   "execution_count": 7,
   "id": "1aa2b79a",
   "metadata": {},
   "outputs": [],
   "source": [
    "lst3.append([2,3,4,5])"
   ]
  },
  {
   "cell_type": "code",
   "execution_count": 8,
   "id": "b95bcdae",
   "metadata": {
    "scrolled": true
   },
   "outputs": [
    {
     "data": {
      "text/plain": [
       "([[1, 2, 3, 4], [100, 6, 7, 8], [2, 3, 4, 5]], [[1, 2, 3, 4], [100, 6, 7, 8]])"
      ]
     },
     "execution_count": 8,
     "metadata": {},
     "output_type": "execute_result"
    }
   ],
   "source": [
    "lst3,lst4"
   ]
  },
  {
   "cell_type": "markdown",
   "id": "faa1c73b",
   "metadata": {},
   "source": [
    "# deepcopy()\n",
    "- deepcopy() creates a deep copy of an object. \n",
    "- Deep copy means that a new object is created, and the contents of the object are completely duplicated. \n",
    "- The new object has its own memory address, and any changes made to the original object will not affect the new object."
   ]
  },
  {
   "cell_type": "code",
   "execution_count": 9,
   "id": "5131ea1c",
   "metadata": {},
   "outputs": [],
   "source": [
    "import copy\n",
    "lst5=[1,2,3,4]\n",
    "lst6=copy.deepcopy(lst1)"
   ]
  },
  {
   "cell_type": "code",
   "execution_count": 10,
   "id": "4b7f4cb8",
   "metadata": {},
   "outputs": [],
   "source": [
    "lst6[1]=100"
   ]
  },
  {
   "cell_type": "code",
   "execution_count": 11,
   "id": "0bfaf8b5",
   "metadata": {},
   "outputs": [
    {
     "data": {
      "text/plain": [
       "([1, 2, 3, 4], [1, 100, 3, 4])"
      ]
     },
     "execution_count": 11,
     "metadata": {},
     "output_type": "execute_result"
    }
   ],
   "source": [
    "lst5,lst6"
   ]
  },
  {
   "cell_type": "code",
   "execution_count": 12,
   "id": "3d9a2269",
   "metadata": {},
   "outputs": [],
   "source": [
    "### In a normal list shallow == deep copy"
   ]
  },
  {
   "cell_type": "code",
   "execution_count": 13,
   "id": "e1a280c8",
   "metadata": {},
   "outputs": [],
   "source": [
    "lst7=[[1,2,3],[3,4,5,],[5,6,7]]\n",
    "lst8=copy.deepcopy(lst7)"
   ]
  },
  {
   "cell_type": "code",
   "execution_count": 14,
   "id": "ac2a2238",
   "metadata": {},
   "outputs": [],
   "source": [
    "lst7[1][0]=100"
   ]
  },
  {
   "cell_type": "code",
   "execution_count": 15,
   "id": "867f43d6",
   "metadata": {},
   "outputs": [
    {
     "data": {
      "text/plain": [
       "([[1, 2, 3], [100, 4, 5], [5, 6, 7]], [[1, 2, 3], [3, 4, 5], [5, 6, 7]])"
      ]
     },
     "execution_count": 15,
     "metadata": {},
     "output_type": "execute_result"
    }
   ],
   "source": [
    "lst7,lst8"
   ]
  }
 ],
 "metadata": {
  "kernelspec": {
   "display_name": "Python 3 (ipykernel)",
   "language": "python",
   "name": "python3"
  },
  "language_info": {
   "codemirror_mode": {
    "name": "ipython",
    "version": 3
   },
   "file_extension": ".py",
   "mimetype": "text/x-python",
   "name": "python",
   "nbconvert_exporter": "python",
   "pygments_lexer": "ipython3",
   "version": "3.9.13"
  }
 },
 "nbformat": 4,
 "nbformat_minor": 5
}
