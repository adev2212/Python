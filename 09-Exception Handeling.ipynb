{
 "cells": [
  {
   "cell_type": "markdown",
   "id": "5a34a878",
   "metadata": {},
   "source": [
    "# Exception Handeling"
   ]
  },
  {
   "cell_type": "code",
   "execution_count": 1,
   "id": "30795c27",
   "metadata": {},
   "outputs": [
    {
     "ename": "NameError",
     "evalue": "name 'b' is not defined",
     "output_type": "error",
     "traceback": [
      "\u001b[0;31m---------------------------------------------------------------------------\u001b[0m",
      "\u001b[0;31mNameError\u001b[0m                                 Traceback (most recent call last)",
      "\u001b[0;32m/var/folders/h7/7nd2ltg17s3g53n9rt_q0s6c0000gn/T/ipykernel_25380/905401003.py\u001b[0m in \u001b[0;36m<module>\u001b[0;34m\u001b[0m\n\u001b[0;32m----> 1\u001b[0;31m \u001b[0ma\u001b[0m\u001b[0;34m=\u001b[0m\u001b[0mb\u001b[0m\u001b[0;34m\u001b[0m\u001b[0;34m\u001b[0m\u001b[0m\n\u001b[0m",
      "\u001b[0;31mNameError\u001b[0m: name 'b' is not defined"
     ]
    }
   ],
   "source": [
    "a=b"
   ]
  },
  {
   "cell_type": "code",
   "execution_count": 2,
   "id": "157fdcaf",
   "metadata": {},
   "outputs": [
    {
     "name": "stdout",
     "output_type": "stream",
     "text": [
      "name 'b' is not defined\n"
     ]
    }
   ],
   "source": [
    "try:\n",
    "    a=b\n",
    "\n",
    "except Exception as ex:\n",
    "    print(ex)"
   ]
  },
  {
   "cell_type": "code",
   "execution_count": 3,
   "id": "f0e2dcf6",
   "metadata": {},
   "outputs": [
    {
     "name": "stdout",
     "output_type": "stream",
     "text": [
      "User may not defined the variable\n"
     ]
    }
   ],
   "source": [
    "try:\n",
    "    a=b\n",
    "except NameError:\n",
    "    print(\"User may not defined the variable\")   \n",
    "\n",
    "except Exception as ex:\n",
    "    print(ex)"
   ]
  },
  {
   "cell_type": "code",
   "execution_count": 4,
   "id": "af7d957c",
   "metadata": {},
   "outputs": [
    {
     "name": "stdout",
     "output_type": "stream",
     "text": [
      "unsupported operand type(s) for +: 'int' and 'str'\n"
     ]
    }
   ],
   "source": [
    "try:\n",
    "    a=1\n",
    "    b='s'\n",
    "    c=a+b\n",
    "except NameError:\n",
    "    print(\"User may not defined the variable\")   \n",
    "\n",
    "except Exception as ex:\n",
    "    print(ex)"
   ]
  },
  {
   "cell_type": "code",
   "execution_count": 5,
   "id": "e471c7c9",
   "metadata": {},
   "outputs": [
    {
     "ename": "TypeError",
     "evalue": "unsupported operand type(s) for +: 'int' and 'str'",
     "output_type": "error",
     "traceback": [
      "\u001b[0;31m---------------------------------------------------------------------------\u001b[0m",
      "\u001b[0;31mTypeError\u001b[0m                                 Traceback (most recent call last)",
      "\u001b[0;32m/var/folders/h7/7nd2ltg17s3g53n9rt_q0s6c0000gn/T/ipykernel_25380/1119264416.py\u001b[0m in \u001b[0;36m<module>\u001b[0;34m\u001b[0m\n\u001b[1;32m      1\u001b[0m \u001b[0ma\u001b[0m\u001b[0;34m=\u001b[0m\u001b[0;36m1\u001b[0m\u001b[0;34m\u001b[0m\u001b[0;34m\u001b[0m\u001b[0m\n\u001b[1;32m      2\u001b[0m \u001b[0mb\u001b[0m\u001b[0;34m=\u001b[0m\u001b[0;34m's'\u001b[0m\u001b[0;34m\u001b[0m\u001b[0;34m\u001b[0m\u001b[0m\n\u001b[0;32m----> 3\u001b[0;31m \u001b[0mc\u001b[0m\u001b[0;34m=\u001b[0m\u001b[0ma\u001b[0m\u001b[0;34m+\u001b[0m\u001b[0mb\u001b[0m\u001b[0;34m\u001b[0m\u001b[0;34m\u001b[0m\u001b[0m\n\u001b[0m",
      "\u001b[0;31mTypeError\u001b[0m: unsupported operand type(s) for +: 'int' and 'str'"
     ]
    }
   ],
   "source": [
    "a=1\n",
    "b='s'\n",
    "c=a+b"
   ]
  },
  {
   "cell_type": "code",
   "execution_count": 6,
   "id": "26d484df",
   "metadata": {},
   "outputs": [
    {
     "name": "stdout",
     "output_type": "stream",
     "text": [
      "Make datatype similiar\n"
     ]
    }
   ],
   "source": [
    "try:\n",
    "    a=1\n",
    "    b='s'\n",
    "    c=a+b\n",
    "    \n",
    "except NameError:\n",
    "    print(\"User may not defined the variable\")   \n",
    "    \n",
    "except TypeError:\n",
    "    print(\"Make datatype similiar\")   \n",
    "\n",
    "except Exception as ex:\n",
    "    print(ex)"
   ]
  },
  {
   "cell_type": "code",
   "execution_count": 7,
   "id": "b13ff06c",
   "metadata": {},
   "outputs": [
    {
     "name": "stdout",
     "output_type": "stream",
     "text": [
      "Enter the number 1: 6\n",
      "Enter the number 2: 8\n",
      "0.75\n",
      "48\n",
      "14\n"
     ]
    }
   ],
   "source": [
    "try:\n",
    "    a=int(input(\"Enter the number 1: \"))\n",
    "    b=int(input(\"Enter the number 2: \"))\n",
    "    c=a/b\n",
    "    d=a*b\n",
    "    e=a+b\n",
    "    print(c)\n",
    "    print(d)\n",
    "    print(e)\n",
    "    \n",
    "except NameError:\n",
    "    print(\"User may not defined the variable\")   \n",
    "    \n",
    "except TypeError:\n",
    "    print(\"Make datatype similiar\")   \n",
    "\n",
    "except Exception as ex:\n",
    "    print(ex)"
   ]
  },
  {
   "cell_type": "code",
   "execution_count": 8,
   "id": "31241192",
   "metadata": {},
   "outputs": [
    {
     "ename": "ZeroDivisionError",
     "evalue": "division by zero",
     "output_type": "error",
     "traceback": [
      "\u001b[0;31m---------------------------------------------------------------------------\u001b[0m",
      "\u001b[0;31mZeroDivisionError\u001b[0m                         Traceback (most recent call last)",
      "\u001b[0;32m/var/folders/h7/7nd2ltg17s3g53n9rt_q0s6c0000gn/T/ipykernel_25380/21889111.py\u001b[0m in \u001b[0;36m<module>\u001b[0;34m\u001b[0m\n\u001b[0;32m----> 1\u001b[0;31m \u001b[0;36m12\u001b[0m\u001b[0;34m/\u001b[0m\u001b[0;36m0\u001b[0m\u001b[0;34m\u001b[0m\u001b[0;34m\u001b[0m\u001b[0m\n\u001b[0m",
      "\u001b[0;31mZeroDivisionError\u001b[0m: division by zero"
     ]
    }
   ],
   "source": [
    "12/0"
   ]
  },
  {
   "cell_type": "markdown",
   "id": "7dac01d5",
   "metadata": {},
   "source": [
    "## try else"
   ]
  },
  {
   "cell_type": "code",
   "execution_count": 9,
   "id": "b4dc551c",
   "metadata": {},
   "outputs": [
    {
     "name": "stdout",
     "output_type": "stream",
     "text": [
      "Enter the number 1: 7\n",
      "Enter the number 2: 8\n",
      "0.875\n",
      "56\n",
      "15\n"
     ]
    }
   ],
   "source": [
    "try:\n",
    "    a=int(input(\"Enter the number 1: \"))\n",
    "    b=int(input(\"Enter the number 2: \"))\n",
    "    c=a/b\n",
    "    d=a*b\n",
    "    e=a+b\n",
    "       \n",
    "except NameError:\n",
    "    print(\"User may not defined the variable\")   \n",
    "    \n",
    "except TypeError:\n",
    "    print(\"Make datatype similiar\")   \n",
    "\n",
    "except ZeroDivisionError:\n",
    "    print(\"Please provide number greater than 0\")   \n",
    "\n",
    "except Exception as ex:\n",
    "    print(ex)\n",
    "\n",
    "else:\n",
    "    print(c)\n",
    "    print(d)\n",
    "    print(e)\n",
    "    "
   ]
  },
  {
   "cell_type": "markdown",
   "id": "e3d49808",
   "metadata": {},
   "source": [
    "## try else final"
   ]
  },
  {
   "cell_type": "code",
   "execution_count": 10,
   "id": "c521a638",
   "metadata": {},
   "outputs": [
    {
     "name": "stdout",
     "output_type": "stream",
     "text": [
      "Enter the number 1: 7\n",
      "Enter the number 2: 9\n",
      "0.7777777777777778\n",
      "63\n",
      "16\n",
      "The is always executed\n"
     ]
    }
   ],
   "source": [
    "try:\n",
    "    a=int(input(\"Enter the number 1: \"))\n",
    "    b=int(input(\"Enter the number 2: \"))\n",
    "    c=a/b\n",
    "    d=a*b\n",
    "    e=a+b\n",
    "       \n",
    "except NameError:\n",
    "    print(\"User may not defined the variable\")   \n",
    "    \n",
    "except TypeError:\n",
    "    print(\"Make datatype similiar\")   \n",
    "\n",
    "except ZeroDivisionError:\n",
    "    print(\"Please provide number greater than 0\")   \n",
    "\n",
    "except Exception as ex:\n",
    "    print(ex)\n",
    "\n",
    "else:\n",
    "    print(c)\n",
    "    print(d)\n",
    "    print(e)\n",
    "finally:\n",
    "    print(\"The is always executed\")"
   ]
  },
  {
   "cell_type": "markdown",
   "id": "14508330",
   "metadata": {},
   "source": [
    "# Custom Exception"
   ]
  },
  {
   "cell_type": "code",
   "execution_count": 11,
   "id": "f879d91c",
   "metadata": {},
   "outputs": [],
   "source": [
    "class Error(Exception):\n",
    "    pass\n",
    "\n",
    "class dobException(Error):\n",
    "    pass"
   ]
  },
  {
   "cell_type": "code",
   "execution_count": 12,
   "id": "70426e4c",
   "metadata": {},
   "outputs": [
    {
     "name": "stdout",
     "output_type": "stream",
     "text": [
      "Enter the year of birth: 1998\n",
      "The age is not valid to apply for this exams\n"
     ]
    }
   ],
   "source": [
    "year=int(input(\"Enter the year of birth: \"))\n",
    "age=2023-year\n",
    "try:\n",
    "    if age<=30 & age>20:\n",
    "        print (\"The is valid. You can apply for the exams\")\n",
    "    else:\n",
    "        raise dobException\n",
    "except dobException:\n",
    "    print(\"The age is not valid to apply for this exams\")"
   ]
  }
 ],
 "metadata": {
  "kernelspec": {
   "display_name": "Python 3 (ipykernel)",
   "language": "python",
   "name": "python3"
  },
  "language_info": {
   "codemirror_mode": {
    "name": "ipython",
    "version": 3
   },
   "file_extension": ".py",
   "mimetype": "text/x-python",
   "name": "python",
   "nbconvert_exporter": "python",
   "pygments_lexer": "ipython3",
   "version": "3.9.13"
  }
 },
 "nbformat": 4,
 "nbformat_minor": 5
}
