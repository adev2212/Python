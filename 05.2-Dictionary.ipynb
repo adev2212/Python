{
 "cells": [
  {
   "cell_type": "markdown",
   "id": "2cdaf593",
   "metadata": {},
   "source": [
    "# Dictionary\n",
    "A dictionary is a data structure in Python that is an unordered collection of key-value pairs.\n",
    "Each key-value pair in a dictionary is separated by a colon (:), and the pairs are enclosed in curly braces {}."
   ]
  },
  {
   "cell_type": "code",
   "execution_count": 1,
   "id": "e7b7d4a0",
   "metadata": {},
   "outputs": [
    {
     "name": "stdout",
     "output_type": "stream",
     "text": [
      "{'name': 'John', 'age': 20, 'major': 'Computer Science'}\n"
     ]
    }
   ],
   "source": [
    "# Creating a Dictionary:\n",
    "student = {\n",
    "    \"name\": \"John\",\n",
    "    \"age\": 20,\n",
    "    \"major\": \"Computer Science\"\n",
    "}\n",
    "print(student)"
   ]
  },
  {
   "cell_type": "markdown",
   "id": "7d7f22c8",
   "metadata": {},
   "source": [
    "## Accessing Values:"
   ]
  },
  {
   "cell_type": "code",
   "execution_count": 2,
   "id": "08fced4b",
   "metadata": {},
   "outputs": [
    {
     "name": "stdout",
     "output_type": "stream",
     "text": [
      "John\n",
      "20\n"
     ]
    }
   ],
   "source": [
    "print(student[\"name\"])\n",
    "print(student.get(\"age\"))"
   ]
  },
  {
   "cell_type": "markdown",
   "id": "be424f83",
   "metadata": {},
   "source": [
    "## Updating Values:"
   ]
  },
  {
   "cell_type": "code",
   "execution_count": 3,
   "id": "4f411244",
   "metadata": {},
   "outputs": [
    {
     "name": "stdout",
     "output_type": "stream",
     "text": [
      "{'name': 'John', 'age': 21, 'major': 'Computer Science'}\n"
     ]
    }
   ],
   "source": [
    "student[\"age\"] = 21\n",
    "print(student)"
   ]
  },
  {
   "cell_type": "markdown",
   "id": "adc858b1",
   "metadata": {},
   "source": [
    "## Adding New Key-Value Pairs:"
   ]
  },
  {
   "cell_type": "code",
   "execution_count": 4,
   "id": "d1eae7a7",
   "metadata": {},
   "outputs": [
    {
     "name": "stdout",
     "output_type": "stream",
     "text": [
      "{'name': 'John', 'age': 21, 'major': 'Computer Science', 'university': 'ABC University'}\n"
     ]
    }
   ],
   "source": [
    "student[\"university\"] = \"ABC University\"\n",
    "print(student)"
   ]
  },
  {
   "cell_type": "markdown",
   "id": "d2250c1f",
   "metadata": {},
   "source": [
    "## Removing Key-Value Pairs:"
   ]
  },
  {
   "cell_type": "code",
   "execution_count": 5,
   "id": "4dde08e7",
   "metadata": {},
   "outputs": [
    {
     "name": "stdout",
     "output_type": "stream",
     "text": [
      "{'name': 'John', 'age': 21, 'university': 'ABC University'}\n"
     ]
    }
   ],
   "source": [
    "del student[\"major\"]\n",
    "print(student)"
   ]
  },
  {
   "cell_type": "markdown",
   "id": "397564ba",
   "metadata": {},
   "source": [
    "## Checking if a Key Exists:"
   ]
  },
  {
   "cell_type": "code",
   "execution_count": 6,
   "id": "e5654e22",
   "metadata": {},
   "outputs": [
    {
     "name": "stdout",
     "output_type": "stream",
     "text": [
      "Age exists in the dictionary.\n"
     ]
    }
   ],
   "source": [
    "if \"age\" in student:\n",
    "    print(\"Age exists in the dictionary.\")\n",
    "else:\n",
    "    print(\"Age does not exist in the dictionary.\")"
   ]
  },
  {
   "cell_type": "markdown",
   "id": "fa0e6ce3",
   "metadata": {},
   "source": [
    "## Looping through a Dictionary:"
   ]
  },
  {
   "cell_type": "code",
   "execution_count": 7,
   "id": "d5038b0f",
   "metadata": {},
   "outputs": [
    {
     "name": "stdout",
     "output_type": "stream",
     "text": [
      "name : John\n",
      "age : 21\n",
      "university : ABC University\n"
     ]
    }
   ],
   "source": [
    "for key, value in student.items():\n",
    "    print(key, \":\", value)"
   ]
  },
  {
   "cell_type": "markdown",
   "id": "70242c2c",
   "metadata": {},
   "source": [
    "## Getting the Number of Key-Value Pairs:"
   ]
  },
  {
   "cell_type": "code",
   "execution_count": 8,
   "id": "64ebd03a",
   "metadata": {},
   "outputs": [
    {
     "name": "stdout",
     "output_type": "stream",
     "text": [
      "3\n"
     ]
    }
   ],
   "source": [
    "print(len(student))"
   ]
  },
  {
   "cell_type": "markdown",
   "id": "3437fdad",
   "metadata": {},
   "source": [
    "## Dictionary Methods:"
   ]
  },
  {
   "cell_type": "markdown",
   "id": "ad59897f",
   "metadata": {},
   "source": [
    "clear(): Removes all the key-value pairs from the dictionary."
   ]
  },
  {
   "cell_type": "code",
   "execution_count": 9,
   "id": "8d127b66",
   "metadata": {},
   "outputs": [
    {
     "name": "stdout",
     "output_type": "stream",
     "text": [
      "{}\n"
     ]
    }
   ],
   "source": [
    "student.clear()\n",
    "print(student)"
   ]
  },
  {
   "cell_type": "markdown",
   "id": "d0f0a5d3",
   "metadata": {},
   "source": [
    "copy(): Returns a shallow copy of the dictionary."
   ]
  },
  {
   "cell_type": "code",
   "execution_count": 10,
   "id": "9e743ce6",
   "metadata": {},
   "outputs": [
    {
     "name": "stdout",
     "output_type": "stream",
     "text": [
      "{'name': 'John', 'age': 20, 'major': 'Computer Science'}\n"
     ]
    }
   ],
   "source": [
    "student = {\n",
    "    \"name\": \"John\",\n",
    "    \"age\": 20,\n",
    "    \"major\": \"Computer Science\"\n",
    "}\n",
    "student_copy = student.copy()\n",
    "print(student_copy)"
   ]
  },
  {
   "cell_type": "markdown",
   "id": "687857c1",
   "metadata": {},
   "source": [
    "keys(): Returns a list of all the keys in the dictionary."
   ]
  },
  {
   "cell_type": "code",
   "execution_count": 11,
   "id": "90c525f2",
   "metadata": {},
   "outputs": [
    {
     "name": "stdout",
     "output_type": "stream",
     "text": [
      "dict_keys(['name', 'age', 'major'])\n"
     ]
    }
   ],
   "source": [
    "keys = student.keys()\n",
    "print(keys)"
   ]
  },
  {
   "cell_type": "markdown",
   "id": "026620e5",
   "metadata": {},
   "source": [
    "values(): Returns a list of all the values in the dictionary."
   ]
  },
  {
   "cell_type": "code",
   "execution_count": 12,
   "id": "6c484d45",
   "metadata": {},
   "outputs": [
    {
     "name": "stdout",
     "output_type": "stream",
     "text": [
      "dict_values(['John', 20, 'Computer Science'])\n"
     ]
    }
   ],
   "source": [
    "values = student.values()\n",
    "print(values)"
   ]
  },
  {
   "cell_type": "markdown",
   "id": "fb3a912c",
   "metadata": {},
   "source": [
    "items(): Returns a list of all the key-value pairs in the dictionary as tuples."
   ]
  },
  {
   "cell_type": "code",
   "execution_count": 13,
   "id": "0e3fb7d7",
   "metadata": {},
   "outputs": [
    {
     "name": "stdout",
     "output_type": "stream",
     "text": [
      "dict_items([('name', 'John'), ('age', 20), ('major', 'Computer Science')])\n"
     ]
    }
   ],
   "source": [
    "items = student.items()\n",
    "print(items)  # Output: dict_items([('name', 'John'), ('age', 20), ('major', 'Computer Science')])"
   ]
  },
  {
   "cell_type": "markdown",
   "id": "3414c1f7",
   "metadata": {},
   "source": [
    "## Dictionary Comprehension"
   ]
  },
  {
   "cell_type": "code",
   "execution_count": 14,
   "id": "bdd82820",
   "metadata": {},
   "outputs": [
    {
     "name": "stdout",
     "output_type": "stream",
     "text": [
      "{1: 1, 2: 4, 3: 9, 4: 16, 5: 25}\n"
     ]
    }
   ],
   "source": [
    "squared_numbers = {num: num**2 for num in range(1, 6)}\n",
    "print(squared_numbers)"
   ]
  }
 ],
 "metadata": {
  "kernelspec": {
   "display_name": "Python 3 (ipykernel)",
   "language": "python",
   "name": "python3"
  },
  "language_info": {
   "codemirror_mode": {
    "name": "ipython",
    "version": 3
   },
   "file_extension": ".py",
   "mimetype": "text/x-python",
   "name": "python",
   "nbconvert_exporter": "python",
   "pygments_lexer": "ipython3",
   "version": "3.9.13"
  }
 },
 "nbformat": 4,
 "nbformat_minor": 5
}
