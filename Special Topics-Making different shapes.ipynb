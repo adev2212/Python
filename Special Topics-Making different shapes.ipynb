{
 "cells": [
  {
   "cell_type": "code",
   "execution_count": 1,
   "id": "4fe8f991",
   "metadata": {},
   "outputs": [
    {
     "name": "stdout",
     "output_type": "stream",
     "text": [
      "Enter the number: 5\n",
      "    ^\n",
      "   ^^^\n",
      "  ^^^^^\n",
      " ^^^^^^^\n",
      "^^^^^^^^^\n"
     ]
    }
   ],
   "source": [
    "# Function to create a triangle with *\n",
    "def create_triangle1(num_rows):\n",
    "    for i in range(1, num_rows+1):\n",
    "        print(\" \"*(num_rows - i) + \"^\"*(2*i-1))\n",
    "\n",
    "while True:\n",
    "    num_rows = input(\"Enter the number: \")\n",
    "    if num_rows.isdigit():\n",
    "        create_triangle1(int(num_rows))\n",
    "        break\n",
    "    else:\n",
    "        print(\"Enter integer\")"
   ]
  },
  {
   "cell_type": "code",
   "execution_count": 2,
   "id": "42fcc815",
   "metadata": {},
   "outputs": [
    {
     "name": "stdout",
     "output_type": "stream",
     "text": [
      "Enter the number: 5\n",
      "_________\n",
      " _______\n",
      "  _____\n",
      "   ___\n",
      "    _\n"
     ]
    }
   ],
   "source": [
    "# Function to create a triangle with *\n",
    "def create_triangle2(num_rows):\n",
    "    for i in range(1, num_rows+1):\n",
    "        print(\" \"*(i-1) + \"_\"*(2*(num_rows)-(2*i-1)))\n",
    "\n",
    "while True:\n",
    "    num_rows = input(\"Enter the number: \")\n",
    "    if num_rows.isdigit():\n",
    "        create_triangle2(int(num_rows))\n",
    "        break\n",
    "    else:\n",
    "        print(\"Enter integer\")"
   ]
  },
  {
   "cell_type": "code",
   "execution_count": 3,
   "id": "9e877f3b",
   "metadata": {},
   "outputs": [
    {
     "name": "stdout",
     "output_type": "stream",
     "text": [
      "Enter the number: 5\n",
      "\\\\\\\\\\\n",
      " \\\\\\\\\\\n",
      "  \\\\\\\\\\\n",
      "   \\\\\\\\\\\n",
      "    \\\\\\\\\\\n"
     ]
    }
   ],
   "source": [
    "# Function to create a triangle with *\n",
    "def create_parallelogram1(num_rows):\n",
    "    for i in range(1, num_rows+1):\n",
    "        print(\" \"*(i-1) + \"\\\\\"*(num_rows))\n",
    "\n",
    "while True:\n",
    "    num_rows = input(\"Enter the number: \")\n",
    "    if num_rows.isdigit():\n",
    "        create_parallelogram1(int(num_rows))\n",
    "        break\n",
    "    else:\n",
    "        print(\"Enter integer\")"
   ]
  },
  {
   "cell_type": "code",
   "execution_count": 4,
   "id": "2641a9bf",
   "metadata": {},
   "outputs": [
    {
     "name": "stdout",
     "output_type": "stream",
     "text": [
      "Enter the number: 5\n",
      "    /////\n",
      "   /////\n",
      "  /////\n",
      " /////\n",
      "/////\n"
     ]
    }
   ],
   "source": [
    "# Function to create a triangle with *\n",
    "def create_parallelogram2(num_rows):\n",
    "    for i in range(1, num_rows+1):\n",
    "        print(\" \"*(num_rows - i) + \"/\"*(num_rows))\n",
    "\n",
    "while True:\n",
    "    num_rows = input(\"Enter the number: \")\n",
    "    if num_rows.isdigit():\n",
    "        create_parallelogram2(int(num_rows))\n",
    "        break\n",
    "    else:\n",
    "        print(\"Enter integer\")"
   ]
  },
  {
   "cell_type": "code",
   "execution_count": 5,
   "id": "8b57ef31",
   "metadata": {},
   "outputs": [
    {
     "name": "stdout",
     "output_type": "stream",
     "text": [
      "Enter the number: 5\n",
      "^\n",
      "^^\n",
      "^^^\n",
      "^^^^\n",
      "^^^^^\n"
     ]
    }
   ],
   "source": [
    "def create_right_triangle1(num_rows):\n",
    "    for i in range(1,num_rows+1):\n",
    "        print(\"^\" * (i))\n",
    "\n",
    "while True:\n",
    "    num_rows = input(\"Enter the number: \")\n",
    "    if num_rows.isdigit():\n",
    "        create_right_triangle1(int(num_rows))\n",
    "        break\n",
    "    else:\n",
    "        print(\"Enter integer\")"
   ]
  },
  {
   "cell_type": "code",
   "execution_count": 6,
   "id": "22c40ee0",
   "metadata": {},
   "outputs": [
    {
     "name": "stdout",
     "output_type": "stream",
     "text": [
      "Enter the number: 5\n",
      "    ^\n",
      "   ^^\n",
      "  ^^^\n",
      " ^^^^\n",
      "^^^^^\n"
     ]
    }
   ],
   "source": [
    "def create_right_triangle2(num_rows):\n",
    "    for i in range(1,num_rows+1):\n",
    "        print(\" \" * (num_rows-i) + \"^\" * (i))\n",
    "\n",
    "while True:\n",
    "    num_rows = input(\"Enter the number: \")\n",
    "    if num_rows.isdigit():\n",
    "        create_right_triangle2(int(num_rows))\n",
    "        break\n",
    "    else:\n",
    "        print(\"Enter integer\")"
   ]
  },
  {
   "cell_type": "code",
   "execution_count": 7,
   "id": "363b540e",
   "metadata": {},
   "outputs": [
    {
     "name": "stdout",
     "output_type": "stream",
     "text": [
      "Enter the length: 5\n",
      "Enter the breadth: 2\n",
      "|||||||||||||||\n",
      "|||||||||||||||\n"
     ]
    }
   ],
   "source": [
    "def create_rectangle(length, breadth):\n",
    "    for i in range(1,breadth+1):\n",
    "        print(\"|||\" * (length))\n",
    "while True:\n",
    "    length = input(\"Enter the length: \")\n",
    "    breadth = input(\"Enter the breadth: \")\n",
    "    if length.isdigit() & breadth.isdigit():\n",
    "        create_rectangle(int(length),int(breadth))\n",
    "        break\n",
    "    else:\n",
    "        print(\"Enter integer\")"
   ]
  },
  {
   "cell_type": "code",
   "execution_count": 8,
   "id": "d7a9b787",
   "metadata": {},
   "outputs": [
    {
     "name": "stdout",
     "output_type": "stream",
     "text": [
      "Enter the length: 5\n",
      "[][][][][]\n",
      "[][][][][]\n",
      "[][][][][]\n",
      "[][][][][]\n",
      "[][][][][]\n"
     ]
    }
   ],
   "source": [
    "def create_square(length):\n",
    "    for i in range(1,length+1):\n",
    "        print(\"[]\" * (length))\n",
    "\n",
    "        \n",
    "while True:\n",
    "    length = input(\"Enter the length: \")\n",
    "    if length.isdigit():\n",
    "        create_square(int(length))\n",
    "        break\n",
    "    else:\n",
    "        print(\"Enter integer\")"
   ]
  }
 ],
 "metadata": {
  "kernelspec": {
   "display_name": "Python 3 (ipykernel)",
   "language": "python",
   "name": "python3"
  },
  "language_info": {
   "codemirror_mode": {
    "name": "ipython",
    "version": 3
   },
   "file_extension": ".py",
   "mimetype": "text/x-python",
   "name": "python",
   "nbconvert_exporter": "python",
   "pygments_lexer": "ipython3",
   "version": "3.9.13"
  }
 },
 "nbformat": 4,
 "nbformat_minor": 5
}
