{
 "cells": [
  {
   "cell_type": "markdown",
   "id": "c3ee7092",
   "metadata": {},
   "source": [
    "# Variables in Python\n",
    "Variables in Python are used to store and access data. They act as named containers that hold values, which can be of different data types such as numbers, strings, booleans, or more complex data structures. Variables provide a way to refer to these values by their assigned names."
   ]
  },
  {
   "cell_type": "markdown",
   "id": "395856ad",
   "metadata": {},
   "source": [
    "## Naming Conventions for Variables:\n",
    "When naming variables in Python, it is important to follow certain conventions for readability and maintainability. Here are some common naming conventions:\n",
    "\n",
    "- Use descriptive and meaningful names: Choose names that accurately represent the purpose or content of the variable.\n",
    "- Use lowercase letters: Variable names in Python are case-sensitive, so it is recommended to use all lowercase letters.\n",
    "- Use underscores for spaces: If you need to include multiple words in a variable name, use underscores (_) to separate them. For example, `first_name` or `student_age`.\n",
    "- Avoid reserved words: Do not use Python reserved words (keywords) as variable names, as they have special meanings in the language."
   ]
  },
  {
   "cell_type": "markdown",
   "id": "a9c513aa",
   "metadata": {},
   "source": [
    "## Best Practices for Variable Naming:\n",
    "\n",
    "- Be consistent: Maintain consistency in variable naming throughout your codebase to enhance readability.\n",
    "- Be concise: Choose variable names that are concise yet descriptive, avoiding unnecessary length or complexity.\n",
    "- Use meaningful prefixes or suffixes: If necessary, use prefixes or suffixes to provide additional context or clarify the purpose of the variable. For example, `num_students`, `total_count`, or `is_valid`."
   ]
  },
  {
   "cell_type": "markdown",
   "id": "88478944",
   "metadata": {},
   "source": [
    "## Assigning Values to Variables and Updating Content:\n",
    "\n",
    "In Python, variables are assigned values using the assignment operator (`=`). The value on the right side of the operator is assigned to the variable on the left side."
   ]
  },
  {
   "cell_type": "code",
   "execution_count": 1,
   "id": "3807bb63",
   "metadata": {},
   "outputs": [],
   "source": [
    "# Assigning values to variables\n",
    "age = 25\n",
    "name = 'John Doe'\n",
    "is_valid = True\n",
    "\n",
    "# Updating variable content\n",
    "age = age + 1\n",
    "name = 'Jane Smith'\n",
    "is_valid = False"
   ]
  },
  {
   "cell_type": "markdown",
   "id": "4f42df98",
   "metadata": {},
   "source": [
    "In the example above, we assign initial values to variables `age`, `name`, and `is_valid`. We then update the content of these variables by reassigning new values to them. The new values overwrite the previous values."
   ]
  },
  {
   "cell_type": "markdown",
   "id": "79290171",
   "metadata": {},
   "source": [
    "## Variable Scopes: Global vs. Local Variables:\n",
    "\n",
    "In Python, variables can have different scopes. The scope of a variable determines where it can be accessed or referenced within the code. The two main types of variable scopes are:\n",
    "\n",
    "- Global variables: Variables defined outside of any function or block have a global scope. They can be accessed from anywhere within the code.\n",
    "- Local variables: Variables defined within a function or block have a local scope. They are only accessible within the specific function or block where they are defined.\n",
    "\n",
    "Understanding variable scopes is important to avoid naming conflicts and to ensure that variables are accessible in the appropriate parts of the code."
   ]
  }
 ],
 "metadata": {
  "kernelspec": {
   "display_name": "Python 3 (ipykernel)",
   "language": "python",
   "name": "python3"
  },
  "language_info": {
   "codemirror_mode": {
    "name": "ipython",
    "version": 3
   },
   "file_extension": ".py",
   "mimetype": "text/x-python",
   "name": "python",
   "nbconvert_exporter": "python",
   "pygments_lexer": "ipython3",
   "version": "3.9.13"
  }
 },
 "nbformat": 4,
 "nbformat_minor": 5
}
