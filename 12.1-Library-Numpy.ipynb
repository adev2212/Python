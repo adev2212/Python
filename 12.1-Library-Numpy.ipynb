{
 "cells": [
  {
   "cell_type": "markdown",
   "id": "d2fc5b66",
   "metadata": {},
   "source": [
    "# NumPy\n",
    "\n",
    "NumPy is a Python library that provides support for large, multi-dimensional arrays and matrices, along with a collection of high-level mathematical functions to operate on these arrays. It is widely used in data analysis, scientific computing, and machine learning.\n",
    "\n",
    "Here are some of the key features and capabilities of NumPy:\n",
    "\n",
    "- Multidimensional arrays: NumPy provides support for arrays with any number of dimensions, making it easy to work with data of any shape.\n",
    "\n",
    "- Array broadcasting: NumPy allows mathematical operations to be performed on arrays of different shapes and sizes, through a process called broadcasting.\n",
    "\n",
    "- Mathematical functions: NumPy provides a large collection of mathematical functions for working with arrays, including functions for linear algebra, Fourier analysis, random number generation, and more.\n",
    "\n",
    "- Array indexing and slicing: NumPy allows easy indexing and slicing of arrays, making it easy to extract subsets of data.\n",
    "\n",
    "- Integration with other libraries: NumPy is often used in conjunction with other scientific computing and data analysis libraries, such as SciPy, Pandas, and Matplotlib."
   ]
  },
  {
   "cell_type": "markdown",
   "id": "5248bb33",
   "metadata": {},
   "source": [
    "## Array\n",
    "In NumPy, an array is a collection of elements of the same data type, arranged in a grid of one or more dimensions.</br>\n",
    "NumPy arrays are similar to lists in Python, but they are much more powerful and efficient, especially when dealing with large amounts of data. While python lists can contain values corresponding to different data types, arrays in python can only contain values corresponding to same data type\n",
    "\n"
   ]
  },
  {
   "cell_type": "code",
   "execution_count": 1,
   "id": "e4422fd9",
   "metadata": {},
   "outputs": [],
   "source": [
    "import numpy as np"
   ]
  },
  {
   "cell_type": "markdown",
   "id": "c644be6a",
   "metadata": {},
   "source": [
    "Creating a NumPy array from a list"
   ]
  },
  {
   "cell_type": "code",
   "execution_count": 2,
   "id": "a4ea5916",
   "metadata": {},
   "outputs": [],
   "source": [
    "my_lst=[1, 2, 3, 4, 5]"
   ]
  },
  {
   "cell_type": "code",
   "execution_count": 3,
   "id": "73864c5b",
   "metadata": {},
   "outputs": [
    {
     "data": {
      "text/plain": [
       "list"
      ]
     },
     "execution_count": 3,
     "metadata": {},
     "output_type": "execute_result"
    }
   ],
   "source": [
    "type(my_lst)"
   ]
  },
  {
   "cell_type": "code",
   "execution_count": 4,
   "id": "3def198d",
   "metadata": {},
   "outputs": [],
   "source": [
    "arr=np.array(my_lst)"
   ]
  },
  {
   "cell_type": "code",
   "execution_count": 5,
   "id": "71c0a1a9",
   "metadata": {},
   "outputs": [
    {
     "data": {
      "text/plain": [
       "numpy.ndarray"
      ]
     },
     "execution_count": 5,
     "metadata": {},
     "output_type": "execute_result"
    }
   ],
   "source": [
    "type(arr)"
   ]
  },
  {
   "cell_type": "code",
   "execution_count": 6,
   "id": "a47f0556",
   "metadata": {},
   "outputs": [],
   "source": [
    "a=np.array([1, 2, 3, 4, 5])"
   ]
  },
  {
   "cell_type": "markdown",
   "id": "42dd68c0",
   "metadata": {},
   "source": [
    "Creating a multi-dimensional NumPy array"
   ]
  },
  {
   "cell_type": "code",
   "execution_count": 7,
   "id": "2a7cf624",
   "metadata": {},
   "outputs": [],
   "source": [
    "b=np.array([[1, 2, 3], [4, 5, 6], [7, 8, 9]])"
   ]
  },
  {
   "cell_type": "code",
   "execution_count": 8,
   "id": "60e240c0",
   "metadata": {},
   "outputs": [],
   "source": [
    "my_lst1=[1,2,3,4,5]\n",
    "my_lst2=[2,3,4,5,6]\n",
    "my_lst3=[9,7,6,8,9]\n",
    "\n",
    "arr1=np.array([my_lst1,my_lst2,my_lst3])"
   ]
  },
  {
   "cell_type": "code",
   "execution_count": 9,
   "id": "ddfe3650",
   "metadata": {},
   "outputs": [
    {
     "data": {
      "text/plain": [
       "(3, 5)"
      ]
     },
     "execution_count": 9,
     "metadata": {},
     "output_type": "execute_result"
    }
   ],
   "source": [
    "arr1.shape"
   ]
  },
  {
   "cell_type": "code",
   "execution_count": 10,
   "id": "1b4e516b",
   "metadata": {},
   "outputs": [
    {
     "data": {
      "text/plain": [
       "array([[1, 2, 3],\n",
       "       [4, 5, 2],\n",
       "       [3, 4, 5],\n",
       "       [6, 9, 7],\n",
       "       [6, 8, 9]])"
      ]
     },
     "execution_count": 10,
     "metadata": {},
     "output_type": "execute_result"
    }
   ],
   "source": [
    "arr1.reshape(5,3)"
   ]
  },
  {
   "cell_type": "markdown",
   "id": "d7f4c6db",
   "metadata": {},
   "source": [
    "Indexing"
   ]
  },
  {
   "cell_type": "code",
   "execution_count": 11,
   "id": "ab5ad8be",
   "metadata": {},
   "outputs": [
    {
     "data": {
      "text/plain": [
       "array([1, 2, 3, 4, 5])"
      ]
     },
     "execution_count": 11,
     "metadata": {},
     "output_type": "execute_result"
    }
   ],
   "source": [
    "arr"
   ]
  },
  {
   "cell_type": "code",
   "execution_count": 12,
   "id": "1640a594",
   "metadata": {},
   "outputs": [
    {
     "name": "stdout",
     "output_type": "stream",
     "text": [
      "1\n"
     ]
    }
   ],
   "source": [
    "# Access the first element\n",
    "print(arr[0])"
   ]
  },
  {
   "cell_type": "code",
   "execution_count": 13,
   "id": "127f58c4",
   "metadata": {},
   "outputs": [
    {
     "name": "stdout",
     "output_type": "stream",
     "text": [
      "5\n"
     ]
    }
   ],
   "source": [
    "# Access the last element\n",
    "print(arr[-1])"
   ]
  },
  {
   "cell_type": "code",
   "execution_count": 14,
   "id": "105cbb66",
   "metadata": {},
   "outputs": [
    {
     "data": {
      "text/plain": [
       "array([[1, 2, 3, 4, 5],\n",
       "       [2, 3, 4, 5, 6],\n",
       "       [9, 7, 6, 8, 9]])"
      ]
     },
     "execution_count": 14,
     "metadata": {},
     "output_type": "execute_result"
    }
   ],
   "source": [
    "arr1"
   ]
  },
  {
   "cell_type": "code",
   "execution_count": 15,
   "id": "f2e92ccf",
   "metadata": {},
   "outputs": [
    {
     "data": {
      "text/plain": [
       "array([[2, 3],\n",
       "       [9, 7]])"
      ]
     },
     "execution_count": 15,
     "metadata": {},
     "output_type": "execute_result"
    }
   ],
   "source": [
    "arr1[1:,:2]"
   ]
  },
  {
   "cell_type": "code",
   "execution_count": 16,
   "id": "0d6c6809",
   "metadata": {},
   "outputs": [
    {
     "data": {
      "text/plain": [
       "array([[4, 5],\n",
       "       [5, 6],\n",
       "       [8, 9]])"
      ]
     },
     "execution_count": 16,
     "metadata": {},
     "output_type": "execute_result"
    }
   ],
   "source": [
    "arr1[:,3:]"
   ]
  },
  {
   "cell_type": "markdown",
   "id": "277899ad",
   "metadata": {},
   "source": [
    "Create arrays and reshape"
   ]
  },
  {
   "cell_type": "code",
   "execution_count": 17,
   "id": "e9610208",
   "metadata": {},
   "outputs": [
    {
     "data": {
      "text/plain": [
       "array([0, 1, 2, 3, 4, 5, 6, 7, 8, 9])"
      ]
     },
     "execution_count": 17,
     "metadata": {},
     "output_type": "execute_result"
    }
   ],
   "source": [
    "np.arange(0,10)"
   ]
  },
  {
   "cell_type": "code",
   "execution_count": 18,
   "id": "6b01160a",
   "metadata": {},
   "outputs": [
    {
     "data": {
      "text/plain": [
       "array([[0, 1],\n",
       "       [2, 3],\n",
       "       [4, 5],\n",
       "       [6, 7],\n",
       "       [8, 9]])"
      ]
     },
     "execution_count": 18,
     "metadata": {},
     "output_type": "execute_result"
    }
   ],
   "source": [
    "arr2=np.arange(0,10).reshape(5,2)\n",
    "arr2"
   ]
  },
  {
   "cell_type": "code",
   "execution_count": 19,
   "id": "b0a1d69d",
   "metadata": {},
   "outputs": [
    {
     "data": {
      "text/plain": [
       "array([[10, 11],\n",
       "       [12, 13],\n",
       "       [14, 15],\n",
       "       [16, 17],\n",
       "       [18, 19]])"
      ]
     },
     "execution_count": 19,
     "metadata": {},
     "output_type": "execute_result"
    }
   ],
   "source": [
    "arr3=np.arange(10,20).reshape(5,2)\n",
    "arr3"
   ]
  },
  {
   "cell_type": "code",
   "execution_count": 20,
   "id": "a7b2d0f9",
   "metadata": {},
   "outputs": [
    {
     "data": {
      "text/plain": [
       "array([[  0,  11],\n",
       "       [ 24,  39],\n",
       "       [ 56,  75],\n",
       "       [ 96, 119],\n",
       "       [144, 171]])"
      ]
     },
     "execution_count": 20,
     "metadata": {},
     "output_type": "execute_result"
    }
   ],
   "source": [
    "arr2*arr3"
   ]
  },
  {
   "cell_type": "code",
   "execution_count": 21,
   "id": "b931c150",
   "metadata": {},
   "outputs": [
    {
     "data": {
      "text/plain": [
       "array([[10, 11, 12, 13, 14],\n",
       "       [15, 16, 17, 18, 19]])"
      ]
     },
     "execution_count": 21,
     "metadata": {},
     "output_type": "execute_result"
    }
   ],
   "source": [
    "arr4=np.arange(10,20).reshape(2,5)\n",
    "arr4"
   ]
  },
  {
   "cell_type": "code",
   "execution_count": 22,
   "id": "112a9191",
   "metadata": {},
   "outputs": [
    {
     "data": {
      "text/plain": [
       "array([[ 15,  16,  17,  18,  19],\n",
       "       [ 65,  70,  75,  80,  85],\n",
       "       [115, 124, 133, 142, 151],\n",
       "       [165, 178, 191, 204, 217],\n",
       "       [215, 232, 249, 266, 283]])"
      ]
     },
     "execution_count": 22,
     "metadata": {},
     "output_type": "execute_result"
    }
   ],
   "source": [
    "np.dot(arr2, arr4)"
   ]
  },
  {
   "cell_type": "markdown",
   "id": "fb1ec203",
   "metadata": {},
   "source": [
    "Creating ones array"
   ]
  },
  {
   "cell_type": "code",
   "execution_count": 23,
   "id": "b6859ddf",
   "metadata": {},
   "outputs": [
    {
     "data": {
      "text/plain": [
       "array([[1, 1, 1, 1, 1],\n",
       "       [1, 1, 1, 1, 1]])"
      ]
     },
     "execution_count": 23,
     "metadata": {},
     "output_type": "execute_result"
    }
   ],
   "source": [
    "np.ones((2,5),dtype=int)"
   ]
  },
  {
   "cell_type": "code",
   "execution_count": 24,
   "id": "b5f6e855",
   "metadata": {},
   "outputs": [
    {
     "data": {
      "text/plain": [
       "array([[0.00868029, 0.32941396, 0.32890281, 0.57619923, 0.85831503]])"
      ]
     },
     "execution_count": 24,
     "metadata": {},
     "output_type": "execute_result"
    }
   ],
   "source": [
    "np.random.random_sample((1,5))"
   ]
  },
  {
   "cell_type": "markdown",
   "id": "0f52e93b",
   "metadata": {},
   "source": [
    "numpy.random.rand() - This function returns an array of random values in the range [0, 1) with the specified shape."
   ]
  },
  {
   "cell_type": "code",
   "execution_count": 25,
   "id": "48c647f6",
   "metadata": {},
   "outputs": [
    {
     "data": {
      "text/plain": [
       "array([[0.59903718, 0.391435  , 0.41106819],\n",
       "       [0.74881595, 0.5467994 , 0.92799835],\n",
       "       [0.34453565, 0.16392825, 0.37544924]])"
      ]
     },
     "execution_count": 25,
     "metadata": {},
     "output_type": "execute_result"
    }
   ],
   "source": [
    "rand=np.random.rand(3,3)\n",
    "rand"
   ]
  },
  {
   "cell_type": "markdown",
   "id": "8f1572a1",
   "metadata": {},
   "source": [
    "numpy.random.randint() - This function returns an array of random integers within a specified range with the specified shape."
   ]
  },
  {
   "cell_type": "code",
   "execution_count": 26,
   "id": "243f571e",
   "metadata": {},
   "outputs": [
    {
     "data": {
      "text/plain": [
       "array([[4, 2, 5, 2],\n",
       "       [3, 5, 0, 9],\n",
       "       [7, 2, 5, 1]])"
      ]
     },
     "execution_count": 26,
     "metadata": {},
     "output_type": "execute_result"
    }
   ],
   "source": [
    "randint=np.random.randint(0, 10, size=(3, 4))\n",
    "randint"
   ]
  },
  {
   "cell_type": "markdown",
   "id": "320ea42b",
   "metadata": {},
   "source": [
    "numpy.random.randn() - This function returns an array of random values with a standard normal distribution (mean=0, variance=1) with the specified shape."
   ]
  },
  {
   "cell_type": "code",
   "execution_count": 27,
   "id": "748c5ff7",
   "metadata": {
    "scrolled": true
   },
   "outputs": [
    {
     "data": {
      "text/plain": [
       "array([[ 0.0221369 ,  0.95337791, -1.2197393 ,  0.42182166],\n",
       "       [ 0.54474173, -0.28846138, -0.67908264, -1.17630061],\n",
       "       [ 1.41048072, -0.58672145,  1.44458856, -0.93109165]])"
      ]
     },
     "execution_count": 27,
     "metadata": {},
     "output_type": "execute_result"
    }
   ],
   "source": [
    "randn=np.random.randn(3, 4)\n",
    "randn"
   ]
  },
  {
   "cell_type": "code",
   "execution_count": 28,
   "id": "18d55e13",
   "metadata": {},
   "outputs": [],
   "source": [
    "import pandas as pd\n",
    "import seaborn as sns"
   ]
  },
  {
   "cell_type": "code",
   "execution_count": 29,
   "id": "b0c88b4c",
   "metadata": {},
   "outputs": [
    {
     "name": "stderr",
     "output_type": "stream",
     "text": [
      "/Users/anuradhadhanda/opt/anaconda3/lib/python3.9/site-packages/seaborn/distributions.py:2619: FutureWarning: `distplot` is a deprecated function and will be removed in a future version. Please adapt your code to use either `displot` (a figure-level function with similar flexibility) or `histplot` (an axes-level function for histograms).\n",
      "  warnings.warn(msg, FutureWarning)\n"
     ]
    },
    {
     "data": {
      "text/plain": [
       "<AxesSubplot: ylabel='Density'>"
      ]
     },
     "execution_count": 29,
     "metadata": {},
     "output_type": "execute_result"
    },
    {
     "data": {
      "image/png": "[encoded data removed]",
      "text/plain": [
       "<Figure size 640x480 with 1 Axes>"
      ]
     },
     "metadata": {},
     "output_type": "display_data"
    }
   ],
   "source": [
    "sns.distplot(pd.DataFrame(randn.reshape(12,1)))"
   ]
  }
 ],
 "metadata": {
  "kernelspec": {
   "display_name": "Python 3 (ipykernel)",
   "language": "python",
   "name": "python3"
  },
  "language_info": {
   "codemirror_mode": {
    "name": "ipython",
    "version": 3
   },
   "file_extension": ".py",
   "mimetype": "text/x-python",
   "name": "python",
   "nbconvert_exporter": "python",
   "pygments_lexer": "ipython3",
   "version": "3.9.13"
  }
 },
 "nbformat": 4,
 "nbformat_minor": 5
}
