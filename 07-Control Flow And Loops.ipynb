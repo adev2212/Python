{
 "cells": [
  {
   "cell_type": "markdown",
   "id": "4315c859",
   "metadata": {},
   "source": [
    "# Control Flow Statements\n",
    "Control flow statements in Python allow you to control the execution of your code based on certain conditions or repeat certain actions multiple times. The main control flow statements in Python are:\n",
    "- `if`, `else`, and `elif`:\n",
    "- `for`\n",
    "- `while`\n",
    "- `break`\n",
    "- `continue`"
   ]
  },
  {
   "cell_type": "markdown",
   "id": "e3cee6a1",
   "metadata": {},
   "source": [
    "## Conditional statements (if, else, elif)\n",
    "Conditional statements in Python allow you to execute different blocks of code based on certain conditions. The main conditional statements are:\n",
    "\n",
    "1. `if` statement: It is used to check a condition and execute a block of code if the condition is true.\n",
    "2. `else` statement: It is used in conjunction with the `if` statement and executes a block of code when the `if` condition is false.\n",
    "3. `elif` statement: It stands for \"else if\" and is used to check additional conditions if the previous `if` condition(s) and `elif` condition(s) are false."
   ]
  },
  {
   "cell_type": "code",
   "execution_count": 1,
   "id": "133a6a40",
   "metadata": {},
   "outputs": [
    {
     "name": "stdout",
     "output_type": "stream",
     "text": [
      "The number is positive\n"
     ]
    }
   ],
   "source": [
    "# Example: Checking if a number is positive, negative, or zero\n",
    "\n",
    "num = 10\n",
    "\n",
    "if num > 0:\n",
    "    print(\"The number is positive\")\n",
    "elif num < 0:\n",
    "    print(\"The number is negative\")\n",
    "else:\n",
    "    print(\"The number is zero\")"
   ]
  },
  {
   "cell_type": "markdown",
   "id": "492fd4e9",
   "metadata": {},
   "source": [
    "In the above example, the `if` condition checks if `num` is greater than 0. If it is true, the corresponding block of code is executed. If the `if` condition is false, the `elif` condition is checked, and if it is true, its corresponding block of code is executed. If both the `if` and `elif` conditions are false, the `else` block of code is executed."
   ]
  },
  {
   "cell_type": "markdown",
   "id": "4a66cc64",
   "metadata": {},
   "source": [
    "## Loops (for and while)\n",
    "Loops allow you to repeatedly execute a block of code until a certain condition is met. In Python, there are two main types of loops:\n",
    "### 1. `for` loop:\n",
    "It is used to iterate over a sequence (such as a list, tuple, string, or range) or any iterable object. It executes the block of code for each element in the sequence."
   ]
  },
  {
   "cell_type": "code",
   "execution_count": 2,
   "id": "bee6b3ab",
   "metadata": {},
   "outputs": [
    {
     "name": "stdout",
     "output_type": "stream",
     "text": [
      "apple\n",
      "banana\n",
      "cherry\n"
     ]
    }
   ],
   "source": [
    "# Example: Iterating over a list\n",
    "\n",
    "fruits = [\"apple\", \"banana\", \"cherry\"]\n",
    "\n",
    "for fruit in fruits:\n",
    "    print(fruit)"
   ]
  },
  {
   "cell_type": "markdown",
   "id": "f44c3aa1",
   "metadata": {},
   "source": [
    "In the above example, the `for` loop iterates over each element in the `fruits` list and prints it."
   ]
  },
  {
   "cell_type": "markdown",
   "id": "0c66c6b3",
   "metadata": {},
   "source": [
    "### 2. `while` loop: \n",
    "It is used to repeatedly execute a block of code as long as a certain condition is true. The condition is checked before each iteration."
   ]
  },
  {
   "cell_type": "code",
   "execution_count": 3,
   "id": "e95a689a",
   "metadata": {},
   "outputs": [
    {
     "name": "stdout",
     "output_type": "stream",
     "text": [
      "1\n",
      "2\n",
      "3\n",
      "4\n",
      "5\n"
     ]
    }
   ],
   "source": [
    "# Example: Printing numbers from 1 to 5 using a while loop\n",
    "\n",
    "num = 1\n",
    "\n",
    "while num <= 5:\n",
    "    print(num)\n",
    "    num += 1"
   ]
  },
  {
   "cell_type": "markdown",
   "id": "249822be",
   "metadata": {},
   "source": [
    "In the above example, the `while` loop continues executing the block of code as long as `num` is less than or equal to 5. The value of `num` is incremented by 1 in each iteration."
   ]
  },
  {
   "cell_type": "markdown",
   "id": "2b69fe32",
   "metadata": {},
   "source": [
    "## Break and continue statements:\n",
    "The `break` and `continue` statements are used within loops to alter the flow of execution.\n",
    "\n",
    "### 1. `break` statement:\n",
    "It is used to exit the loop prematurely, even if the loop condition is still true. It is typically used when a certain condition is met, and you want to terminate the loop immediately."
   ]
  },
  {
   "cell_type": "code",
   "execution_count": 4,
   "id": "0f0c48cf",
   "metadata": {},
   "outputs": [
    {
     "name": "stdout",
     "output_type": "stream",
     "text": [
      "1\n",
      "2\n",
      "3\n",
      "4\n",
      "5\n"
     ]
    }
   ],
   "source": [
    "num = 1\n",
    "\n",
    "while True:\n",
    "    print(num)\n",
    "    num += 1\n",
    "    if num > 5:\n",
    "        break"
   ]
  },
  {
   "cell_type": "markdown",
   "id": "2fd6edd0",
   "metadata": {},
   "source": [
    "### 2. `continue` statement:\n",
    "It is used to skip the rest of the code block within a loop for the current iteration and move to the next iteration. It is typically used when you want to skip certain iterations based on a specific condition.\n"
   ]
  },
  {
   "cell_type": "code",
   "execution_count": 5,
   "id": "22bd7453",
   "metadata": {},
   "outputs": [
    {
     "name": "stdout",
     "output_type": "stream",
     "text": [
      "1\n",
      "2\n",
      "4\n",
      "5\n"
     ]
    }
   ],
   "source": [
    "# Example: Using continue statement in a for loop\n",
    "\n",
    "numbers = [1, 2, 3, 4, 5]\n",
    "\n",
    "for num in numbers:\n",
    "    if num == 3:\n",
    "        continue\n",
    "    print(num)"
   ]
  },
  {
   "cell_type": "markdown",
   "id": "cab73dc1",
   "metadata": {},
   "source": [
    "In the above example, the `for` loop iterates over each element in the `numbers` list. When the value of `num` is equal to 3, the `continue` statement is encountered, which skips the rest of the code block for that iteration. As a result, the number 3 is not printed, and the loop moves to the next iteration.\n",
    "\n",
    "The `continue` statement is useful when you want to exclude specific elements or perform certain actions based on specific conditions within a loop."
   ]
  },
  {
   "cell_type": "markdown",
   "id": "a5b8184f",
   "metadata": {},
   "source": [
    "These control flow statements (`if`, `else`, `elif`, `for`, `while`, `break`, and `continue`) provide you with the flexibility to conditionally execute code and control the flow of execution within loops in Python."
   ]
  }
 ],
 "metadata": {
  "kernelspec": {
   "display_name": "Python 3 (ipykernel)",
   "language": "python",
   "name": "python3"
  },
  "language_info": {
   "codemirror_mode": {
    "name": "ipython",
    "version": 3
   },
   "file_extension": ".py",
   "mimetype": "text/x-python",
   "name": "python",
   "nbconvert_exporter": "python",
   "pygments_lexer": "ipython3",
   "version": "3.9.13"
  }
 },
 "nbformat": 4,
 "nbformat_minor": 5
}
