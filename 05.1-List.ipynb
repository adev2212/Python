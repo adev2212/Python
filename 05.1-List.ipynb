{
 "cells": [
  {
   "cell_type": "markdown",
   "id": "da41b0e9",
   "metadata": {},
   "source": [
    "## Sequence Types: list, tuple, range\n",
    "In Python, sequence types are data types that represent ordered collections of elements.\n",
    "The three built-in sequence types in Python are lists, tuples, and ranges.\n",
    "Lists:\n",
    "A list is a data structure in Python that is a mutable, or changeable, ordered sequence of elements.,\n",
    "Each element or value that is inside of a list is called an item. \n",
    "Just as strings are defined as characters between quotes, lists are defined by having values between square brackets [ ]"
   ]
  },
  {
   "cell_type": "markdown",
   "id": "e3621f59",
   "metadata": {},
   "source": [
    "# List:\n",
    "    - A list is a data structure in Python that is a mutable, or changeable, ordered sequence of elements.\n",
    "    - Each element or value that is inside of a list is called an item.\n",
    "    - Lists are created using square brackets[].\n",
    "    - Itreable\n",
    "    \n",
    "    -In this repo I performed different operation on list,such as:\n",
    "    -List Unpacking,\n",
    "    -Looping over List,\n",
    "    -Adding and Removing items,etc"
   ]
  },
  {
   "cell_type": "code",
   "execution_count": 3,
   "id": "b8f9f6ad",
   "metadata": {},
   "outputs": [
    {
     "data": {
      "text/plain": [
       "list"
      ]
     },
     "execution_count": 3,
     "metadata": {},
     "output_type": "execute_result"
    }
   ],
   "source": [
    "type([])"
   ]
  },
  {
   "cell_type": "code",
   "execution_count": 3,
   "id": "91019387",
   "metadata": {},
   "outputs": [
    {
     "name": "stdout",
     "output_type": "stream",
     "text": [
      "['a', 'b', 'c', 'd']\n"
     ]
    }
   ],
   "source": [
    "# 1D list\n",
    "\n",
    "letters = ['a', 'b', 'c', 'd']\n",
    "print(letters)"
   ]
  },
  {
   "cell_type": "code",
   "execution_count": 4,
   "id": "87ffdf5b",
   "metadata": {},
   "outputs": [
    {
     "name": "stdout",
     "output_type": "stream",
     "text": [
      "[[0, 1], [2, 3]]\n"
     ]
    }
   ],
   "source": [
    "# 2D list\n",
    "\n",
    "matrix_2d = [[0,1], [2,3]]\n",
    "print(matrix_2d"
   ]
  },
  {
   "cell_type": "code",
   "execution_count": 31,
   "id": "959dab0c",
   "metadata": {},
   "outputs": [
    {
     "name": "stdout",
     "output_type": "stream",
     "text": [
      "[[[0, 1], [2, 3]], [[4, 5], [6, 7]], [[8, 9], [10, 11]]]\n"
     ]
    }
   ],
   "source": [
    "# 3D list\n",
    "\n",
    "matrix_3d = [[[0,1], [2,3]],[[4,5], [6,7]],[[8,9], [10,11]]]\n",
    "print(matrix_3d)"
   ]
  },
  {
   "cell_type": "code",
   "execution_count": 6,
   "id": "90bbd4f7",
   "metadata": {},
   "outputs": [
    {
     "name": "stdout",
     "output_type": "stream",
     "text": [
      "[0, 0, 0, 0, 0, 0, 0, 0, 0, 0, 0, 0, 0, 0, 0, 0, 0, 0, 0, 0, 0, 0, 0, 0, 0, 0, 0, 0, 0, 0, 0, 0, 0, 0, 0, 0, 0, 0, 0, 0, 0, 0, 0, 0, 0, 0, 0, 0, 0, 0, 0, 0, 0, 0, 0, 0, 0, 0, 0, 0, 0, 0, 0, 0, 0, 0, 0, 0, 0, 0, 0, 0, 0, 0, 0, 0, 0, 0, 0, 0, 0, 0, 0, 0, 0, 0, 0, 0, 0, 0, 0, 0, 0, 0, 0, 0, 0, 0, 0, 0]\n"
     ]
    }
   ],
   "source": [
    "# list of 100 zeros\n",
    "\n",
    "zeros = [0]*100\n",
    "print(zeros)"
   ]
  },
  {
   "cell_type": "markdown",
   "id": "73e4433b",
   "metadata": {},
   "source": [
    "## Concatenate"
   ]
  },
  {
   "cell_type": "code",
   "execution_count": 8,
   "id": "09da5b14",
   "metadata": {},
   "outputs": [
    {
     "name": "stdout",
     "output_type": "stream",
     "text": [
      "[1, 2, 3, 4, 5, 'a', 'b', 'c', 'd']\n"
     ]
    }
   ],
   "source": [
    "list1 = [1, 2, 3, 4, 5]\n",
    "list2 = ['a', 'b', 'c', 'd']\n",
    "\n",
    "combined = list1 + list2\n",
    "print(combined)"
   ]
  },
  {
   "cell_type": "code",
   "execution_count": 9,
   "id": "f45792f5",
   "metadata": {},
   "outputs": [
    {
     "name": "stdout",
     "output_type": "stream",
     "text": [
      "[0, 1, 2, 3, 4, 5, 6, 7, 8, 9, 10, 11, 12, 13, 14, 15, 16, 17, 18, 19]\n"
     ]
    }
   ],
   "source": [
    "#print number 0 - 19\n",
    "\n",
    "numbers = list(range(20))\n",
    "print(numbers)"
   ]
  },
  {
   "cell_type": "markdown",
   "id": "ba33e252",
   "metadata": {},
   "source": [
    "## Aliasing"
   ]
  },
  {
   "cell_type": "code",
   "execution_count": 6,
   "id": "4401ddeb",
   "metadata": {},
   "outputs": [],
   "source": [
    "A = ['Hard rock', 56, 1.3]"
   ]
  },
  {
   "cell_type": "code",
   "execution_count": 7,
   "id": "54ba0bb2",
   "metadata": {},
   "outputs": [],
   "source": [
    "B = A"
   ]
  },
  {
   "cell_type": "code",
   "execution_count": 8,
   "id": "db0e3908",
   "metadata": {},
   "outputs": [
    {
     "name": "stdout",
     "output_type": "stream",
     "text": [
      "['Soft Rock', 56, 1.3]\n"
     ]
    }
   ],
   "source": [
    "A[0] = 'Soft Rock'\n",
    "print(B)"
   ]
  },
  {
   "cell_type": "code",
   "execution_count": 9,
   "id": "c725ddb4",
   "metadata": {},
   "outputs": [],
   "source": [
    "# to deal with this Aliasing\n",
    "C = A[:]"
   ]
  },
  {
   "cell_type": "code",
   "execution_count": 10,
   "id": "cff7ecb5",
   "metadata": {},
   "outputs": [
    {
     "name": "stdout",
     "output_type": "stream",
     "text": [
      "['Soft Rock', 56, 1.3]\n"
     ]
    }
   ],
   "source": [
    "A[0] = 'Normal Rock'\n",
    "print(C)"
   ]
  },
  {
   "cell_type": "markdown",
   "id": "6d13a5fa",
   "metadata": {},
   "source": [
    "## Functions over list"
   ]
  },
  {
   "cell_type": "code",
   "execution_count": 25,
   "id": "00ae59b2",
   "metadata": {},
   "outputs": [
    {
     "name": "stdout",
     "output_type": "stream",
     "text": [
      "1st letter: a\n",
      "last letter: i\n",
      "['a', 'b', 'c', 'd', 'e', 'f', 'h', 'i']\n",
      "['a', 'b', 'c', 'd', 'e', 'f', 'h', 'i']\n",
      "['a', 'b', 'c']\n",
      "['a', 'b', 'c', 'd']\n",
      "['i', 'h', 'f', 'e', 'd', 'c', 'b', 'a']\n",
      "['a', 'c', 'e', 'h']\n",
      "8\n"
     ]
    }
   ],
   "source": [
    "letters = ['a', 'b', 'c', 'd', 'e', 'f', 'h', 'i']\n",
    "print(\"1st letter: \" + letters[0])     # first element of the list\n",
    "print(\"last letter: \" + letters[-1])   # last element of the list \n",
    "print(letters[0:])                     # print the list of full length\n",
    "print(letters[:])                      # print the list of full length\n",
    "print(letters[0:3])                    # print element on 0, 1, 2 \n",
    "print(letters[:4])                     # print the list until index = 3\n",
    "print(letters[::-1])                   # print list in reverse order\n",
    "print(letters[::2])                    # print every 2nd element\n",
    "print(len(letters))                    #lenght of the list"
   ]
  },
  {
   "cell_type": "code",
   "execution_count": 101,
   "id": "fff380e2",
   "metadata": {},
   "outputs": [],
   "source": [
    "lst=[1,1,1,2,3,4,4,5]"
   ]
  },
  {
   "cell_type": "code",
   "execution_count": 102,
   "id": "a081ce15",
   "metadata": {},
   "outputs": [
    {
     "data": {
      "text/plain": [
       "21"
      ]
     },
     "execution_count": 102,
     "metadata": {},
     "output_type": "execute_result"
    }
   ],
   "source": [
    "sum(lst)"
   ]
  },
  {
   "cell_type": "code",
   "execution_count": 103,
   "id": "8c4c9d49",
   "metadata": {},
   "outputs": [
    {
     "data": {
      "text/plain": [
       "3"
      ]
     },
     "execution_count": 103,
     "metadata": {},
     "output_type": "execute_result"
    }
   ],
   "source": [
    "lst.count(1)"
   ]
  },
  {
   "cell_type": "code",
   "execution_count": 104,
   "id": "4a6427bb",
   "metadata": {},
   "outputs": [
    {
     "data": {
      "text/plain": [
       "8"
      ]
     },
     "execution_count": 104,
     "metadata": {},
     "output_type": "execute_result"
    }
   ],
   "source": [
    "len(lst)"
   ]
  },
  {
   "cell_type": "code",
   "execution_count": 108,
   "id": "3a6e3470",
   "metadata": {},
   "outputs": [
    {
     "data": {
      "text/plain": [
       "5"
      ]
     },
     "execution_count": 108,
     "metadata": {},
     "output_type": "execute_result"
    }
   ],
   "source": [
    "# index(): Returns the index of first occurrence. Start and End index are not necessary parameters\n",
    "lst.index(4,3,6)"
   ]
  },
  {
   "cell_type": "code",
   "execution_count": 109,
   "id": "90a68541",
   "metadata": {},
   "outputs": [
    {
     "data": {
      "text/plain": [
       "1"
      ]
     },
     "execution_count": 109,
     "metadata": {},
     "output_type": "execute_result"
    }
   ],
   "source": [
    "min(lst)"
   ]
  },
  {
   "cell_type": "code",
   "execution_count": 110,
   "id": "680c2223",
   "metadata": {},
   "outputs": [
    {
     "data": {
      "text/plain": [
       "5"
      ]
     },
     "execution_count": 110,
     "metadata": {},
     "output_type": "execute_result"
    }
   ],
   "source": [
    "max(lst)"
   ]
  },
  {
   "cell_type": "markdown",
   "id": "66d58e62",
   "metadata": {},
   "source": [
    "## List Unpacking"
   ]
  },
  {
   "cell_type": "code",
   "execution_count": 2,
   "id": "c9903839",
   "metadata": {},
   "outputs": [],
   "source": [
    "list_unpacking1 = [1, 2, 3, 4]\n",
    "# first  = numbers[0]\n",
    "# second = numbers[1]\n",
    "# third  = numbers[2]\n",
    "#fourth  = numbers[3]\n",
    "\n",
    "# instead of above code use this:\n",
    "first, second, third, fourth = list_unpacking1\n",
    "\n",
    "# numbers in left hand should be equal to the number of items in list"
   ]
  },
  {
   "cell_type": "code",
   "execution_count": 40,
   "id": "fe334391",
   "metadata": {},
   "outputs": [
    {
     "name": "stdout",
     "output_type": "stream",
     "text": [
      "first element:  0\n",
      "second element:  1\n",
      "remaining element: [2, 3, 4, 5, 6, 7, 8, 9, 10, 11, 12, 13, 14, 15, 16, 17, 18, 19]\n",
      "\n",
      "first element:  0\n",
      "last element:  19\n"
     ]
    }
   ],
   "source": [
    "list_unpacking2 = list(range(20))\n",
    "\n",
    "first, second, *other = list_unpacking2  #to unpack the first 2 items\n",
    "print(\"first element: \", first)\n",
    "print(\"second element: \", second)\n",
    "print(\"remaining element:\", other)\n",
    "\n",
    "first, *other, last = list_unpacking2    #to unpack the first & last items\n",
    "print(\"\\nfirst element: \", first)\n",
    "print(\"last element: \", last)"
   ]
  },
  {
   "cell_type": "markdown",
   "id": "ad5eb3bf",
   "metadata": {},
   "source": [
    "## Looping over List"
   ]
  },
  {
   "cell_type": "code",
   "execution_count": 44,
   "id": "78ca5cd9",
   "metadata": {},
   "outputs": [
    {
     "name": "stdout",
     "output_type": "stream",
     "text": [
      "apple\n",
      "banana\n",
      "cherry\n"
     ]
    }
   ],
   "source": [
    "fruits = [\"apple\", \"banana\", \"cherry\"]\n",
    "for x in fruits:\n",
    "  print(x)"
   ]
  },
  {
   "cell_type": "code",
   "execution_count": 57,
   "id": "e74997f3",
   "metadata": {},
   "outputs": [
    {
     "name": "stdout",
     "output_type": "stream",
     "text": [
      "(0, 'a') \n",
      "\n",
      "(1, 'b') \n",
      "\n",
      "(2, 'c') \n",
      "\n",
      "0 a\n",
      "1 b\n",
      "2 c\n",
      "\n",
      " 0 a\n",
      "\n",
      " 1 b\n",
      "\n",
      " 2 c\n"
     ]
    }
   ],
   "source": [
    "#to get the index of each:\n",
    "\n",
    "letters = [\"a\", \"b\", \"c\"]\n",
    "for letter in enumerate(letters):\n",
    "  print(letter, \"\\n\")                        # give result in tuple\n",
    "\n",
    "letters = [\"a\", \"b\", \"c\"]\n",
    "for letter in enumerate(letters):\n",
    "  print(letter[0], letter[1]) \n",
    "\n",
    "letters = [\"a\", \"b\", \"c\"]\n",
    "for index, letter in enumerate(letters):\n",
    "  print(\"\\n\", index, letter) "
   ]
  },
  {
   "cell_type": "markdown",
   "id": "c82dd0f3",
   "metadata": {},
   "source": [
    "## Adding and Removing items"
   ]
  },
  {
   "cell_type": "code",
   "execution_count": 62,
   "id": "f38669f5",
   "metadata": {},
   "outputs": [
    {
     "name": "stdout",
     "output_type": "stream",
     "text": [
      "['a', 'b', 'c', 'd']\n",
      "\n",
      " ['~', 'a', 'b', 'c', 'd']\n"
     ]
    }
   ],
   "source": [
    "letters = [\"a\", \"b\", \"c\"]\n",
    "\n",
    "letters.append(\"d\")     #add item at last\n",
    "print(letters)\n",
    "\n",
    "letters.insert(0,\"~\")\n",
    "print(\"\\n\", letters)    #add item at starting"
   ]
  },
  {
   "cell_type": "code",
   "execution_count": 4,
   "id": "0d1a8f5c",
   "metadata": {},
   "outputs": [
    {
     "name": "stdout",
     "output_type": "stream",
     "text": [
      "['~', 'a', 'b', 'a', 'b', 'b', 'c']\n",
      "['a', 'b', 'a', 'b', 'b', 'c']\n",
      "['a', 'a', 'b', 'b', 'c']\n",
      "['b', 'c']\n",
      "['b', 'z']\n",
      "[]\n"
     ]
    }
   ],
   "source": [
    "letters = [\"~\",\"a\", \"b\", \"a\", \"b\", \"b\", \"c\", \"d\"]\n",
    "\n",
    "letters.pop()\n",
    "print(letters)          #pop element from last\n",
    "\n",
    "letters.pop(0)\n",
    "print(letters)          #pop element at location 0\n",
    "\n",
    "letters.remove(\"b\")     #when you don't know the location use remove \n",
    "print(letters)          #it will remove 1st occurrence of b\n",
    "\n",
    "del letters[0:3]\n",
    "print(letters)          #we can remove range of items\n",
    "\n",
    "letters[1] = 'z'       # change an element at a specific position\n",
    "print(letters) \n",
    "\n",
    "letters.clear()\n",
    "print(letters)          #we can clear the whole list"
   ]
  },
  {
   "cell_type": "markdown",
   "id": "2279c247",
   "metadata": {},
   "source": [
    "## Finding Index"
   ]
  },
  {
   "cell_type": "code",
   "execution_count": 7,
   "id": "c0811ac7",
   "metadata": {},
   "outputs": [
    {
     "name": "stdout",
     "output_type": "stream",
     "text": [
      "1\n",
      "t is not in letters\n",
      "0\n"
     ]
    }
   ],
   "source": [
    "letters = [\"~\",\"a\", \"b\", \"a\", \"b\", \"b\", \"c\", \"d\"]\n",
    "print(letters.index(\"a\"))                #give the index of 1st occurrence\n",
    "\n",
    "#print(letters.index(\"t\"))               # give ValueError\n",
    "#to avoid this:\n",
    "if \"t\" in letters:\n",
    "    print(letters.index(\"t\"))\n",
    "else:\n",
    "    print(\"t is not in letters\")\n",
    "    \n",
    "print(letters.count(\"t\"))"
   ]
  },
  {
   "cell_type": "code",
   "execution_count": 10,
   "id": "650bdc70",
   "metadata": {},
   "outputs": [
    {
     "data": {
      "text/plain": [
       "'d'"
      ]
     },
     "execution_count": 10,
     "metadata": {},
     "output_type": "execute_result"
    }
   ],
   "source": [
    "last_letters=letters[-1]\n",
    "last_letters"
   ]
  },
  {
   "cell_type": "markdown",
   "id": "abcb8b8b",
   "metadata": {},
   "source": [
    "## Sorting"
   ]
  },
  {
   "cell_type": "code",
   "execution_count": 95,
   "id": "fe8d0bbf",
   "metadata": {},
   "outputs": [
    {
     "name": "stdout",
     "output_type": "stream",
     "text": [
      "[3, 6, 32, 45, 52, 89]\n",
      "[89, 52, 45, 32, 6, 3]\n",
      "\n",
      " [3, 6, 32, 45, 52, 89]\n",
      "[89, 52, 45, 32, 6, 3]\n"
     ]
    }
   ],
   "source": [
    "numbers = [3, 52, 45, 6, 89, 32]\n",
    "print(sorted(numbers))                #don't modify the orignal list\n",
    "print(sorted(numbers, reverse=True))  \n",
    "\n",
    "numbers.sort()                         #modify the orignal list\n",
    "print(\"\\n\", numbers)\n",
    "numbers.sort(reverse=True)             #print in desc order\n",
    "print(numbers)"
   ]
  },
  {
   "cell_type": "code",
   "execution_count": 98,
   "id": "c622c0a5",
   "metadata": {},
   "outputs": [
    {
     "name": "stdout",
     "output_type": "stream",
     "text": [
      "[('product1', 7), ('product1', 10), ('product1', 45)]\n"
     ]
    }
   ],
   "source": [
    "# TO SORT THE ITEM BY PRICE\n",
    "\n",
    "# items = [\n",
    "#     (\"product1\",10),\n",
    "#     (\"product1\",45),\n",
    "#     (\"product1\",7),\n",
    "# ]\n",
    "\n",
    "# def sort_item(item):\n",
    "#     return item[1]\n",
    "\n",
    "# items.sort(key=sort_item)\n",
    "# print(items)\n",
    "\n",
    "\n",
    "items = [\n",
    "    (\"product1\",10),\n",
    "    (\"product1\",45),\n",
    "    (\"product1\",7),\n",
    "]\n",
    "items.sort(key=lambda item:item[1])\n",
    "print(items)"
   ]
  },
  {
   "cell_type": "markdown",
   "id": "1f89791a",
   "metadata": {},
   "source": [
    "## Map Function"
   ]
  },
  {
   "cell_type": "code",
   "execution_count": 110,
   "id": "23eed46a",
   "metadata": {},
   "outputs": [
    {
     "name": "stdout",
     "output_type": "stream",
     "text": [
      "[10, 45, 7]\n"
     ]
    }
   ],
   "source": [
    "# items = [\n",
    "#     (\"product1\",10),\n",
    "#     (\"product1\",45),\n",
    "#     (\"product1\",7),\n",
    "# ]\n",
    "\n",
    "# prices = []\n",
    "# for item in items:\n",
    "#     prices.append(item[1])\n",
    "    \n",
    "# print(prices)\n",
    "\n",
    "items = [\n",
    "    (\"product1\",10),\n",
    "    (\"product1\",45),\n",
    "    (\"product1\",7),\n",
    "]\n",
    "\n",
    "prices = list(map(lambda item: item[1], items)  )\n",
    "print(prices)"
   ]
  },
  {
   "cell_type": "markdown",
   "id": "34867350",
   "metadata": {},
   "source": [
    "## Append and Extend"
   ]
  },
  {
   "cell_type": "code",
   "execution_count": 90,
   "id": "512112ac",
   "metadata": {},
   "outputs": [],
   "source": [
    "lst=[1,2,3]"
   ]
  },
  {
   "cell_type": "code",
   "execution_count": 91,
   "id": "c145d20a",
   "metadata": {},
   "outputs": [
    {
     "data": {
      "text/plain": [
       "[1, 2, 3, 4, 5]"
      ]
     },
     "execution_count": 91,
     "metadata": {},
     "output_type": "execute_result"
    }
   ],
   "source": [
    "lst.extend([4,5])\n",
    "lst"
   ]
  },
  {
   "cell_type": "code",
   "execution_count": 92,
   "id": "8fc702d1",
   "metadata": {},
   "outputs": [
    {
     "data": {
      "text/plain": [
       "[1, 2, 3, 4, 5, [6, 7]]"
      ]
     },
     "execution_count": 92,
     "metadata": {},
     "output_type": "execute_result"
    }
   ],
   "source": [
    "lst.append([6,7])\n",
    "lst"
   ]
  }
 ],
 "metadata": {
  "kernelspec": {
   "display_name": "Python 3 (ipykernel)",
   "language": "python",
   "name": "python3"
  },
  "language_info": {
   "codemirror_mode": {
    "name": "ipython",
    "version": 3
   },
   "file_extension": ".py",
   "mimetype": "text/x-python",
   "name": "python",
   "nbconvert_exporter": "python",
   "pygments_lexer": "ipython3",
   "version": "3.9.13"
  }
 },
 "nbformat": 4,
 "nbformat_minor": 5
}
