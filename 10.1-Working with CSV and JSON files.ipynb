{
 "cells": [
  {
   "cell_type": "markdown",
   "id": "eccf5750",
   "metadata": {},
   "source": [
    "# Working with CSV and JSON files\n",
    "Python provides built-in modules for working with CSV and JSON files, which are common file formats for storing structured data."
   ]
  },
  {
   "cell_type": "markdown",
   "id": "d9c89e77",
   "metadata": {},
   "source": [
    "## CSV files\n",
    "You can use the `csv` module to read and write CSV files. The `csv` module provides functions such as `csv.reader()` and `csv.writer()` to handle CSV data."
   ]
  },
  {
   "cell_type": "markdown",
   "id": "b7622ff2",
   "metadata": {},
   "source": [
    "<div style=\"background-color: lightblue; padding: 10px;\">\n",
    "\n",
    "import csv\n",
    "\n",
    "with open(\"data.csv\", \"r\") as file:\n",
    "    <div style=\"background-color: lightblue; padding: 10px;\">\n",
    "    csv_reader = csv.reader(file)\n",
    "    <div style=\"background-color: lightblue; padding: 10px;\">\n",
    "    for row in csv_reader:\n",
    "        <div style=\"background-color: lightblue; padding: 10px;\">\n",
    "        print(row)\n",
    "</div>"
   ]
  },
  {
   "cell_type": "markdown",
   "id": "27d3bc0d",
   "metadata": {},
   "source": [
    "## JSON files\n",
    "You can use the `json` module to work with JSON data. The `json` module provides functions such as `json.load()` and `json.dump()` to read and write JSON data."
   ]
  },
  {
   "cell_type": "markdown",
   "id": "b7331592",
   "metadata": {},
   "source": [
    "<div style=\"background-color: lightblue; padding: 10px;\">\n",
    "    \n",
    "import json\n",
    "\n",
    "with open(\"data.json\", \"r\") as file:\n",
    "    <div style=\"background-color: lightblue; padding: 10px;\">\n",
    "    json_data = json.load(file)\n",
    "    <div style=\"background-color: lightblue; padding: 10px;\">\n",
    "    print(json_data)\n",
    "</div>"
   ]
  },
  {
   "cell_type": "markdown",
   "id": "6c986b59",
   "metadata": {},
   "source": [
    "These are the basic concepts of file input/output (I/O) operations in Python, including reading from and writing to files, handling file modes, and working with CSV and JSON files. File I/O is essential for working with external data and storing information in files. Remember to close files after you're done with them or use the `with` statement to automatically handle file closure."
   ]
  }
 ],
 "metadata": {
  "kernelspec": {
   "display_name": "Python 3 (ipykernel)",
   "language": "python",
   "name": "python3"
  },
  "language_info": {
   "codemirror_mode": {
    "name": "ipython",
    "version": 3
   },
   "file_extension": ".py",
   "mimetype": "text/x-python",
   "name": "python",
   "nbconvert_exporter": "python",
   "pygments_lexer": "ipython3",
   "version": "3.9.13"
  }
 },
 "nbformat": 4,
 "nbformat_minor": 5
}
