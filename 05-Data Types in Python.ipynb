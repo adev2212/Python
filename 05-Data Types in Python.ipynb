{
 "cells": [
  {
   "cell_type": "markdown",
   "id": "dc77898c",
   "metadata": {},
   "source": [
    "# Data Types in Python"
   ]
  },
  {
   "cell_type": "markdown",
   "id": "1fe7da2e",
   "metadata": {},
   "source": [
    "|       | Tuple        | List           | Dictionary     |\n",
    "|-------|--------------|----------------|----------------|\n",
    "| Mutability    | Immutable    | Mutable         | Mutable        |\n",
    "| Order     | Ordered    | Ordered         | Unordered      |\n",
    "| Syntax   | Parentheses()    | Square brackets[]         | Curly braces {}       |\n",
    "| Access   | Indexing    | Indexing         | Keys       |\n",
    "| Modification   | Not allowed    | Allowed         | Allowed       |\n"
   ]
  },
  {
   "cell_type": "markdown",
   "id": "d58d3eeb",
   "metadata": {},
   "source": [
    "## Numbers in Python\n",
    "Python supports two main types of numbers: integers and floats.\n",
    "\n",
    "Integers are whole numbers without decimal points. Examples of integers are -3, 0, and 42. They can be positive or negative.\n",
    "\n",
    "Floats, or floating-point numbers, are numbers with decimal points or numbers in scientific notation. Examples of floats are -3.14, 2.71828, and 1.0e-5.\n"
   ]
  },
  {
   "cell_type": "markdown",
   "id": "4a112206",
   "metadata": {},
   "source": [
    "Basic Mathematical Operations:\n",
    "\n",
    "- Addition (+): Adds two numbers together.\n",
    "- Subtraction (-): Subtracts one number from another.\n",
    "- Multiplication (*): Multiplies two numbers together.\n",
    "- Division (/): Divides one number by another, returning a float.\n",
    "- Modulus (%): Returns the remainder after division.\n",
    "- Exponentiation (**): Raises a number to the power of another number."
   ]
  },
  {
   "cell_type": "code",
   "execution_count": 1,
   "id": "89dc53c4",
   "metadata": {},
   "outputs": [
    {
     "name": "stdout",
     "output_type": "stream",
     "text": [
      "8\n",
      "6\n",
      "42\n",
      "3.3333333333333335\n",
      "1\n",
      "16\n"
     ]
    }
   ],
   "source": [
    "# Addition\n",
    "result = 5 + 3\n",
    "print(result)  # Output: 8\n",
    "\n",
    "# Subtraction\n",
    "result = 10 - 4\n",
    "print(result)  # Output: 6\n",
    "\n",
    "# Multiplication\n",
    "result = 6 * 7\n",
    "print(result)  # Output: 42\n",
    "\n",
    "# Division\n",
    "result = 10 / 3\n",
    "print(result)  # Output: 3.3333333333333335\n",
    "\n",
    "# Modulus\n",
    "result = 10 % 3\n",
    "print(result)  # Output: 1\n",
    "\n",
    "# Exponentiation\n",
    "result = 2 ** 4\n",
    "print(result)  # Output: 16"
   ]
  },
  {
   "cell_type": "markdown",
   "id": "6cf6ddb9",
   "metadata": {},
   "source": [
    "In the examples above, we perform various mathematical operations using integers and floats. The results are stored in the `result` variable and then printed using the `print()` function.\n",
    "\n",
    "Remember to use appropriate data types (integers or floats) based on the requirements of your calculations."
   ]
  },
  {
   "cell_type": "markdown",
   "id": "066e7245",
   "metadata": {},
   "source": [
    "## Creating Strings:\n",
    "\n",
    "In Python, strings can be created using single quotes (''), double quotes (\"\") or triple quotes (''''' or \"\"\")."
   ]
  },
  {
   "cell_type": "code",
   "execution_count": 2,
   "id": "5eb90366",
   "metadata": {},
   "outputs": [],
   "source": [
    "# Using single quotes\n",
    "str1 = 'Hello, Python!'\n",
    "\n",
    "# Using double quotes\n",
    "str2 = \"Welcome to Python!\"\n",
    "\n",
    "# Using triple quotes\n",
    "str3 = '''This is a multi-line\n",
    "string in Python.'''"
   ]
  },
  {
   "cell_type": "markdown",
   "id": "16a80ff9",
   "metadata": {},
   "source": [
    "String Manipulation:\n",
    "\n",
    "Python provides several operations and methods for manipulating strings:\n",
    "\n",
    "- Concatenation: Combining two or more strings using the `+` operator.\n",
    "- Slicing: Extracting a portion of a string based on its position.\n",
    "- Indexing: Accessing individual characters in a string using their positions.\n",
    "- String methods: Built-in methods to perform various operations on strings, such as finding the length, converting case, splitting, joining, and replacing."
   ]
  },
  {
   "cell_type": "code",
   "execution_count": 3,
   "id": "e20c4635",
   "metadata": {},
   "outputs": [
    {
     "name": "stdout",
     "output_type": "stream",
     "text": [
      "John Doe\n",
      "Py\n",
      "W\n",
      "14\n",
      "HELLO, PYTHON!\n",
      "hello, python!\n",
      "['Hello', ' Python!']\n",
      "Hello, Java!\n"
     ]
    }
   ],
   "source": [
    "# Concatenation\n",
    "full_name = 'John' + ' ' + 'Doe'\n",
    "print(full_name)  # Output: John Doe\n",
    "\n",
    "# Slicing\n",
    "word = 'Python'\n",
    "print(word[0:2])  # Output: Py\n",
    "\n",
    "# Indexing\n",
    "message = 'Hello, World!'\n",
    "print(message[7])  # Output: W\n",
    "\n",
    "# String methods\n",
    "text = 'Hello, Python!'\n",
    "print(len(text))  # Output: 14\n",
    "\n",
    "print(text.upper())  # Output: HELLO, PYTHON!\n",
    "print(text.lower())  # Output: hello, python!\n",
    "\n",
    "print(text.split(','))  # Output: ['Hello', ' Python!']\n",
    "\n",
    "print(text.replace('Python', 'Java'))  # Output: Hello, Java!"
   ]
  },
  {
   "cell_type": "markdown",
   "id": "323277e7",
   "metadata": {},
   "source": [
    "In the examples above, we create strings using different quotation styles. We then demonstrate various string manipulation operations:\n",
    "\n",
    "- Concatenation: We concatenate strings to create a full name.\n",
    "- Slicing: We extract a portion of a string using slice notation.\n",
    "- Indexing: We access individual characters in a string using index positions.\n",
    "- String methods: We use built-in methods such as `len()`, `upper()`, `lower()`, `split()`, and `replace()` to perform operations on strings.\n",
    "\n",
    "These examples showcase common string manipulation techniques in Python. Feel free to experiment with different strings and explore additional string methods available in Python's string module."
   ]
  },
  {
   "cell_type": "markdown",
   "id": "6a9ba054",
   "metadata": {},
   "source": [
    "## Booleans in Python:\n",
    "\n",
    "Boolean is a built-in data type in Python that represents truth values. There are two Boolean values: `True` and `False`. Booleans are commonly used in conditional statements and logical operations.\n",
    "\n",
    "Logical Operators:\n",
    "\n",
    "Python provides three logical operators: `and`, `or`, and `not`. These operators allow us to perform logical operations on Boolean values.\n",
    "\n",
    "- `and`: Returns `True` if both operands are `True`, otherwise returns `False`.\n",
    "- `or`: Returns `True` if at least one of the operands is `True`, otherwise returns `False`.\n",
    "- `not`: Returns the opposite Boolean value of the operand.\n",
    "\n",
    "Using Boolean Values and Logical Operators:\n",
    "\n",
    "Boolean values and logical operators are commonly used in conditional statements to make decisions based on certain conditions."
   ]
  },
  {
   "cell_type": "code",
   "execution_count": 4,
   "id": "b6ffe7aa",
   "metadata": {},
   "outputs": [
    {
     "name": "stdout",
     "output_type": "stream",
     "text": [
      "False\n",
      "True\n",
      "False\n"
     ]
    }
   ],
   "source": [
    "# Boolean values\n",
    "is_true = True\n",
    "is_false = False\n",
    "\n",
    "# Logical operators\n",
    "result = is_true and is_false\n",
    "print(result)  # Output: False\n",
    "\n",
    "result = is_true or is_false\n",
    "print(result)  # Output: True\n",
    "\n",
    "result = not is_true\n",
    "print(result)  # Output: False"
   ]
  },
  {
   "cell_type": "markdown",
   "id": "0b33adf6",
   "metadata": {},
   "source": [
    "In the examples above, we introduce Boolean values and logical operators. We assign `True` and `False` to variables `is_true` and `is_false`. We then demonstrate the logical operators by combining these Boolean values using `and`, `or`, and `not`. The results of these logical operations are stored in the `result` variable and printed.\n",
    "\n",
    "Boolean values and logical operators are fundamental for controlling the flow of execution in programs and making decisions based on certain conditions. They are widely used in if statements, loops, and other control structures."
   ]
  },
  {
   "cell_type": "markdown",
   "id": "a6debe24",
   "metadata": {},
   "source": [
    "## Variables in Python:\n",
    "\n",
    "Variables in Python are used to store and access data. They act as named containers that hold values, which can be of different data types such as numbers, strings, booleans, or more complex data structures. Variables provide a way to refer to these values by their assigned names.\n",
    "\n",
    "Naming Conventions for Variables:\n",
    "\n",
    "When naming variables in Python, it is important to follow certain conventions for readability and maintainability. Here are some common naming conventions:\n",
    "\n",
    "- Use descriptive and meaningful names: Choose names that accurately represent the purpose or content of the variable.\n",
    "- Use lowercase letters: Variable names in Python are case-sensitive, so it is recommended to use all lowercase letters.\n",
    "- Use underscores for spaces: If you need to include multiple words in a variable name, use underscores (_) to separate them. For example, `first_name` or `student_age`.\n",
    "- Avoid reserved words: Do not use Python reserved words (keywords) as variable names, as they have special meanings in the language.\n",
    "\n",
    "Best Practices for Variable Naming:\n",
    "\n",
    "- Be consistent: Maintain consistency in variable naming throughout your codebase to enhance readability.\n",
    "- Be concise: Choose variable names that are concise yet descriptive, avoiding unnecessary length or complexity.\n",
    "- Use meaningful prefixes or suffixes: If necessary, use prefixes or suffixes to provide additional context or clarify the purpose of the variable. For example, `num_students`, `total_count`, or `is_valid`.\n",
    "    \n",
    "\n",
    "Assigning Values to Variables and Updating Content:\n",
    "\n",
    "In Python, variables are assigned values using the assignment operator (`=`). The value on the right side of the operator is assigned to the variable on the left side."
   ]
  },
  {
   "cell_type": "code",
   "execution_count": 5,
   "id": "64d03d6e",
   "metadata": {},
   "outputs": [],
   "source": [
    "\n",
    "# Assigning values to variables\n",
    "age = 25\n",
    "name = 'John Doe'\n",
    "is_valid = True\n",
    "\n",
    "# Updating variable content\n",
    "age = age + 1\n",
    "name = 'Jane Smith'\n",
    "is_valid = False"
   ]
  },
  {
   "cell_type": "markdown",
   "id": "43b6aca3",
   "metadata": {},
   "source": [
    "In the example above, we assign initial values to variables `age`, `name`, and `is_valid`. We then update the content of these variables by reassigning new values to them. The new values overwrite the previous values.\n",
    "\n",
    "Variable Scopes: Global vs. Local Variables:\n",
    "\n",
    "In Python, variables can have different scopes. The scope of a variable determines where it can be accessed or referenced within the code. The two main types of variable scopes are:\n",
    "\n",
    "- Global variables: Variables defined outside of any function or block have a global scope. They can be accessed from anywhere within the code.\n",
    "- Local variables: Variables defined within a function or block have a local scope. They are only accessible within the specific function or block where they are defined.\n",
    "\n",
    "Understanding variable scopes is important to avoid naming conflicts and to ensure that variables are accessible in the appropriate parts of the code."
   ]
  }
 ],
 "metadata": {
  "kernelspec": {
   "display_name": "Python 3 (ipykernel)",
   "language": "python",
   "name": "python3"
  },
  "language_info": {
   "codemirror_mode": {
    "name": "ipython",
    "version": 3
   },
   "file_extension": ".py",
   "mimetype": "text/x-python",
   "name": "python",
   "nbconvert_exporter": "python",
   "pygments_lexer": "ipython3",
   "version": "3.9.13"
  }
 },
 "nbformat": 4,
 "nbformat_minor": 5
}
