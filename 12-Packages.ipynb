{
 "cells": [
  {
   "cell_type": "markdown",
   "id": "bfca2346",
   "metadata": {},
   "source": [
    "# Packages\n",
    "To install and manage packages in Python, you can use the `pip` command-line tool. `pip` is the default package manager for Python and is widely used in the Python community. Here are some common `pip` commands for package installation and management:"
   ]
  },
  {
   "cell_type": "markdown",
   "id": "76266ba4",
   "metadata": {},
   "source": [
    "1. `Installing a Package`:\n",
    "   To install a package from the Python Package Index (PyPI), use the `install` command:\n",
    "\n",
    "<div style=\"background-color: lightblue; padding: 10px;\">   \n",
    "pip install package_name\n",
    "</div>"
   ]
  },
  {
   "cell_type": "markdown",
   "id": "46415789",
   "metadata": {},
   "source": [
    "Replace `package_name` with the name of the package you want to install. You can also specify a specific version or use other options, such as upgrading or downgrading packages. For example:\n",
    "\n",
    "<div style=\"background-color: lightblue; padding: 10px;\">\n",
    "\n",
    "pip install package_name==1.2.3  # Install a specific version\n",
    "\n",
    "pip install --upgrade package_name  # Upgrade the package\n",
    "</div>"
   ]
  },
  {
   "cell_type": "markdown",
   "id": "61493c94",
   "metadata": {},
   "source": [
    "2. `Uninstalling a Package`:\n",
    "   To uninstall a package, use the `uninstall` command:\n",
    "   \n",
    "<div style=\"background-color: lightblue; padding: 10px;\">\n",
    "pip uninstall package_name\n",
    "</div>"
   ]
  },
  {
   "cell_type": "markdown",
   "id": "27887a4a",
   "metadata": {},
   "source": [
    "Replace `package_name` with the name of the package you want to uninstall."
   ]
  },
  {
   "cell_type": "markdown",
   "id": "60760a9f",
   "metadata": {},
   "source": [
    "3. `Listing Installed Packages`:\n",
    "   To list all installed packages, use the `list` command:\n",
    "   \n",
    "<div style=\"background-color: lightblue; padding: 10px;\">\n",
    "pip list\n",
    "</div>"
   ]
  },
  {
   "cell_type": "markdown",
   "id": "b4758cd4",
   "metadata": {},
   "source": [
    "4. `Searching for Packages`:\n",
    "   To search for a package on PyPI, use the `search` command:\n",
    "\n",
    "<div style=\"background-color: lightblue; padding: 10px;\">\n",
    "pip search package_name\n",
    "</div>"
   ]
  },
  {
   "cell_type": "markdown",
   "id": "ef2c6b49",
   "metadata": {},
   "source": [
    "Replace `package_name` with the name of the package you want to search for."
   ]
  },
  {
   "cell_type": "markdown",
   "id": "4de27b9a",
   "metadata": {},
   "source": [
    "5. `Upgrading Packages`:\n",
    "   To upgrade a package to the latest version, use the `install` command with the `--upgrade` option:\n",
    "\n",
    "<div style=\"background-color: lightblue; padding: 10px;\">\n",
    "pip install --upgrade package_name\n",
    "</div>"
   ]
  },
  {
   "cell_type": "markdown",
   "id": "f7fdc87c",
   "metadata": {},
   "source": [
    "6. `Requirements Files`:\n",
    "   You can use a requirements file to specify multiple packages and their versions. Create a text file (e.g., `requirements.txt`) and list the packages with their desired versions:\n",
    "\n",
    "<div style=\"background-color: lightblue; padding: 10px;\">\n",
    "package1==1.0.0\n",
    "package2>=2.3.0\n",
    "</div>"
   ]
  },
  {
   "cell_type": "markdown",
   "id": "d3b61877",
   "metadata": {},
   "source": [
    "To install the packages listed in a requirements file, use the `install` command with the `-r` option:\n",
    "\n",
    "<div style=\"background-color: lightblue; padding: 10px;\">\n",
    "pip install -r requirements.txt\n",
    "</div>"
   ]
  },
  {
   "cell_type": "markdown",
   "id": "560c3a21",
   "metadata": {},
   "source": [
    "These are some of the common `pip` commands for installing and managing Python packages. You can use these commands in the terminal or command prompt, depending on your operating system. It's recommended to use virtual environments (e.g., `venv` or `conda`) to isolate package installations for different projects."
   ]
  }
 ],
 "metadata": {
  "kernelspec": {
   "display_name": "Python 3 (ipykernel)",
   "language": "python",
   "name": "python3"
  },
  "language_info": {
   "codemirror_mode": {
    "name": "ipython",
    "version": 3
   },
   "file_extension": ".py",
   "mimetype": "text/x-python",
   "name": "python",
   "nbconvert_exporter": "python",
   "pygments_lexer": "ipython3",
   "version": "3.9.13"
  }
 },
 "nbformat": 4,
 "nbformat_minor": 5
}
