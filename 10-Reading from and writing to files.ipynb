{
 "cells": [
  {
   "cell_type": "markdown",
   "id": "5aab1e60",
   "metadata": {},
   "source": [
    "# Reading from and writing to files\n",
    "\n",
    "In Python, you can read data from files and write data to files using the file input/output (I/O) operations.\n",
    "\n",
    "Here's an overview of how to perform file I/O operations:"
   ]
  },
  {
   "cell_type": "markdown",
   "id": "cb3ae9bc",
   "metadata": {},
   "source": [
    "## Reading from a file:\n",
    "To read data from a file, you can follow these steps:\n",
    "\n",
    "1. Open the file using the `open()` function, specifying the file path and mode. The mode should be set to `\"r\"` for read mode.\n",
    "2. Use the appropriate method to read the file's contents:\n",
    "   - `read()`: Reads the entire contents of the file as a single string.\n",
    "   - `readline()`: Reads a single line from the file.\n",
    "   - `readlines()`: Reads all the lines from the file and returns them as a list of strings."
   ]
  },
  {
   "cell_type": "markdown",
   "id": "d302d76c",
   "metadata": {},
   "source": [
    "<div style=\"background-color: lightblue; padding: 10px;\">\n",
    "    \n",
    "file = open(\"example.txt\", \"r\")\n",
    "\n",
    "content = file.read()\n",
    "    \n",
    "print(content)\n",
    "    \n",
    "file.close()\n",
    "</div>"
   ]
  },
  {
   "cell_type": "markdown",
   "id": "ba57e1b8",
   "metadata": {},
   "source": [
    "## Writing to a file:\n",
    "To write data to a file, you can follow these steps:\n",
    "\n",
    "1. Open the file using the `open()` function, specifying the file path and mode. The mode should be set to `\"w\"` for write mode.\n",
    "2. Use the `write()` method to write data to the file. You can pass a string or a sequence of strings to write.\n",
    "3. Close the file after writing to ensure that the changes are saved."
   ]
  },
  {
   "cell_type": "markdown",
   "id": "8c7b6ab6",
   "metadata": {},
   "source": [
    "<div style=\"background-color: lightblue; padding: 10px;\">\n",
    "    \n",
    "file = open(\"example.txt\", \"w\")\n",
    "\n",
    "file.write(\"Hello, world!\")\n",
    "\n",
    "file.close()\n",
    "</div>"
   ]
  },
  {
   "cell_type": "markdown",
   "id": "a5887697",
   "metadata": {},
   "source": [
    "## Modes to control\n",
    "When opening a file, you can specify different modes to control how the file is accessed. The most commonly used modes are:\n",
    "- `\"r\"`: Read mode (default). Opens the file for reading.\n",
    "- `\"w\"`: Write mode. Opens the file for writing, overwriting any existing contents.\n",
    "- `\"a\"`: Append mode. Opens the file for writing, but appends new data to the end of the file.\n",
    "- `\"x\"`: Exclusive creation mode. Creates a new file but raises an error if the file already exists."
   ]
  },
  {
   "cell_type": "markdown",
   "id": "98721a75",
   "metadata": {},
   "source": [
    "It's important to `close` the file after reading from or writing to it to free up system resources. Alternatively, you can use the `with` statement, which automatically closes the file for you when you're done."
   ]
  },
  {
   "cell_type": "markdown",
   "id": "15b313e0",
   "metadata": {},
   "source": [
    "<div style=\"background-color: lightblue; padding: 10px;\">\n",
    "    \n",
    "with open(\"example.txt\", \"r\") as file:\n",
    "    <div style=\"background-color: lightblue; padding: 10px;\">\n",
    "    content = file.read()\n",
    "    <div style=\"background-color: lightblue; padding: 10px;\">\n",
    "    print(content)\n",
    "</div>"
   ]
  },
  {
   "cell_type": "markdown",
   "id": "c8f65ae6",
   "metadata": {},
   "source": [
    "When using the `with` statement, you don't need to explicitly close the file as it's handled automatically.\n",
    "\n",
    "Remember to handle exceptions when working with files, such as `FileNotFoundError` or `PermissionError`, to ensure that your code gracefully handles any errors that may occur during file I/O operations."
   ]
  }
 ],
 "metadata": {
  "kernelspec": {
   "display_name": "Python 3 (ipykernel)",
   "language": "python",
   "name": "python3"
  },
  "language_info": {
   "codemirror_mode": {
    "name": "ipython",
    "version": 3
   },
   "file_extension": ".py",
   "mimetype": "text/x-python",
   "name": "python",
   "nbconvert_exporter": "python",
   "pygments_lexer": "ipython3",
   "version": "3.9.13"
  }
 },
 "nbformat": 4,
 "nbformat_minor": 5
}
