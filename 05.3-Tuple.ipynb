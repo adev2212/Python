{
 "cells": [
  {
   "cell_type": "markdown",
   "id": "d06ff67f",
   "metadata": {},
   "source": [
    "# Tuple\n",
    " - A tuple is a data structure in Python that is an immutable, ordered sequence of elements.\n",
    " - Each element or value that is inside of a tuple is called an item.\n",
    " - Tuples are created using parentheses ().\n",
    " - Tuples are iterable."
   ]
  },
  {
   "cell_type": "code",
   "execution_count": 1,
   "id": "7cf5ebc4",
   "metadata": {},
   "outputs": [],
   "source": [
    "# Empty tuple\n",
    "empty_tuple = ()"
   ]
  },
  {
   "cell_type": "code",
   "execution_count": 2,
   "id": "53410394",
   "metadata": {
    "scrolled": true
   },
   "outputs": [
    {
     "name": "stdout",
     "output_type": "stream",
     "text": [
      "('a', 'b', 'c', 'd')\n"
     ]
    }
   ],
   "source": [
    "# 1D tuple\n",
    "letters = ('a', 'b', 'c', 'd')\n",
    "print(letters)"
   ]
  },
  {
   "cell_type": "code",
   "execution_count": 3,
   "id": "b199969f",
   "metadata": {},
   "outputs": [
    {
     "name": "stdout",
     "output_type": "stream",
     "text": [
      "((0, 1), (2, 3))\n"
     ]
    }
   ],
   "source": [
    "# 2D tuple\n",
    "matrix_2d = ((0, 1), (2, 3))\n",
    "print(matrix_2d)"
   ]
  },
  {
   "cell_type": "code",
   "execution_count": 4,
   "id": "2bdbc894",
   "metadata": {},
   "outputs": [
    {
     "name": "stdout",
     "output_type": "stream",
     "text": [
      "(((0, 1), (2, 3)), ((4, 5), (6, 7)), ((8, 9), (10, 11)))\n"
     ]
    }
   ],
   "source": [
    "# 3D tuple\n",
    "matrix_3d = (((0, 1), (2, 3)), ((4, 5), (6, 7)), ((8, 9), (10, 11)))\n",
    "print(matrix_3d)"
   ]
  },
  {
   "cell_type": "code",
   "execution_count": 5,
   "id": "3d96db96",
   "metadata": {},
   "outputs": [
    {
     "name": "stdout",
     "output_type": "stream",
     "text": [
      "(0, 0, 0, 0, 0, 0, 0, 0, 0, 0, 0, 0, 0, 0, 0, 0, 0, 0, 0, 0, 0, 0, 0, 0, 0, 0, 0, 0, 0, 0, 0, 0, 0, 0, 0, 0, 0, 0, 0, 0, 0, 0, 0, 0, 0, 0, 0, 0, 0, 0, 0, 0, 0, 0, 0, 0, 0, 0, 0, 0, 0, 0, 0, 0, 0, 0, 0, 0, 0, 0, 0, 0, 0, 0, 0, 0, 0, 0, 0, 0, 0, 0, 0, 0, 0, 0, 0, 0, 0, 0, 0, 0, 0, 0, 0, 0, 0, 0, 0, 0)\n"
     ]
    }
   ],
   "source": [
    "# Tuple of 100 zeros\n",
    "zeros = (0,) * 100\n",
    "print(zeros)"
   ]
  },
  {
   "cell_type": "code",
   "execution_count": 6,
   "id": "d4fbf326",
   "metadata": {},
   "outputs": [
    {
     "name": "stdout",
     "output_type": "stream",
     "text": [
      "apple\n",
      "banana\n",
      "('banana', 'orange')\n"
     ]
    }
   ],
   "source": [
    "# Accessing elements\n",
    "fruits = ('apple', 'banana', 'orange')\n",
    "print(fruits[0])  # Output: 'apple'\n",
    "print(fruits[1])  # Output: 'banana'\n",
    "print(fruits[1:])  # Output: ('banana', 'orange')"
   ]
  },
  {
   "cell_type": "markdown",
   "id": "877712a6",
   "metadata": {},
   "source": [
    "## Immutable nature of tuples"
   ]
  },
  {
   "cell_type": "code",
   "execution_count": 7,
   "id": "d89b48f5",
   "metadata": {},
   "outputs": [
    {
     "ename": "TypeError",
     "evalue": "'tuple' object does not support item assignment",
     "output_type": "error",
     "traceback": [
      "\u001b[0;31m---------------------------------------------------------------------------\u001b[0m",
      "\u001b[0;31mTypeError\u001b[0m                                 Traceback (most recent call last)",
      "\u001b[0;32m/var/folders/h7/7nd2ltg17s3g53n9rt_q0s6c0000gn/T/ipykernel_18525/935194789.py\u001b[0m in \u001b[0;36m<module>\u001b[0;34m\u001b[0m\n\u001b[0;32m----> 1\u001b[0;31m \u001b[0mfruits\u001b[0m\u001b[0;34m[\u001b[0m\u001b[0;36m0\u001b[0m\u001b[0;34m]\u001b[0m \u001b[0;34m=\u001b[0m \u001b[0;34m'grape'\u001b[0m  \u001b[0;31m# Raises a TypeError\u001b[0m\u001b[0;34m\u001b[0m\u001b[0;34m\u001b[0m\u001b[0m\n\u001b[0m",
      "\u001b[0;31mTypeError\u001b[0m: 'tuple' object does not support item assignment"
     ]
    }
   ],
   "source": [
    "fruits[0] = 'grape'  # Raises a TypeError"
   ]
  },
  {
   "cell_type": "markdown",
   "id": "12b245d7",
   "metadata": {},
   "source": [
    "## Tuple unpacking"
   ]
  },
  {
   "cell_type": "code",
   "execution_count": 8,
   "id": "96860d97",
   "metadata": {},
   "outputs": [
    {
     "name": "stdout",
     "output_type": "stream",
     "text": [
      "1\n",
      "2\n",
      "3\n"
     ]
    }
   ],
   "source": [
    "t = (1, 2, 3)\n",
    "a, b, c = t\n",
    "print(a)  # Output: 1\n",
    "print(b)  # Output: 2\n",
    "print(c)  # Output: 3"
   ]
  },
  {
   "cell_type": "markdown",
   "id": "c2677dc6",
   "metadata": {},
   "source": [
    "## Concatenating tuples"
   ]
  },
  {
   "cell_type": "code",
   "execution_count": 9,
   "id": "c3ca13fc",
   "metadata": {},
   "outputs": [
    {
     "name": "stdout",
     "output_type": "stream",
     "text": [
      "('a', 'b', 'c', 'd', 'e', 'f')\n"
     ]
    }
   ],
   "source": [
    "tuple1 = ('a', 'b', 'c')\n",
    "tuple2 = ('d', 'e', 'f')\n",
    "combined_tuple = tuple1 + tuple2\n",
    "print(combined_tuple)  # Output: ('a', 'b', 'c', 'd', 'e', 'f')"
   ]
  },
  {
   "cell_type": "markdown",
   "id": "986bc7f3",
   "metadata": {},
   "source": [
    "## Nested tuples"
   ]
  },
  {
   "cell_type": "code",
   "execution_count": 10,
   "id": "7b275a27",
   "metadata": {},
   "outputs": [
    {
     "name": "stdout",
     "output_type": "stream",
     "text": [
      "((1, 2, 3), ('a', 'b', 'c'))\n",
      "(1, 2, 3)\n",
      "c\n"
     ]
    }
   ],
   "source": [
    "nested_tuple = ((1, 2, 3), ('a', 'b', 'c'))\n",
    "print(nested_tuple)  # Output: ((1, 2, 3), ('a', 'b', 'c'))\n",
    "print(nested_tuple[0])  # Output: (1, 2, 3)\n",
    "print(nested_tuple[1][2])  # Output: 'c'"
   ]
  },
  {
   "cell_type": "markdown",
   "id": "b4190b53",
   "metadata": {},
   "source": [
    "## Looping over a tuple"
   ]
  },
  {
   "cell_type": "code",
   "execution_count": 11,
   "id": "3e197565",
   "metadata": {},
   "outputs": [
    {
     "name": "stdout",
     "output_type": "stream",
     "text": [
      "apple\n",
      "banana\n",
      "cherry\n"
     ]
    }
   ],
   "source": [
    "fruits = (\"apple\", \"banana\", \"cherry\")\n",
    "for fruit in fruits:\n",
    "    print(fruit)"
   ]
  },
  {
   "cell_type": "markdown",
   "id": "776cae27",
   "metadata": {},
   "source": [
    "## Length of a tuple"
   ]
  },
  {
   "cell_type": "code",
   "execution_count": 12,
   "id": "272108d3",
   "metadata": {},
   "outputs": [
    {
     "name": "stdout",
     "output_type": "stream",
     "text": [
      "3\n"
     ]
    }
   ],
   "source": [
    "fruits = (\"apple\", \"banana\", \"cherry\")\n",
    "print(len(fruits))  # Output: 3"
   ]
  },
  {
   "cell_type": "markdown",
   "id": "0b9884fb",
   "metadata": {},
   "source": [
    "## Checking if an element exists in a tuple"
   ]
  },
  {
   "cell_type": "code",
   "execution_count": 13,
   "id": "4371bd67",
   "metadata": {},
   "outputs": [
    {
     "name": "stdout",
     "output_type": "stream",
     "text": [
      "True\n",
      "False\n"
     ]
    }
   ],
   "source": [
    "fruits = ('apple', 'banana', 'orange')\n",
    "print('apple' in fruits)  # Output: True\n",
    "print('grape' in fruits)  # Output: False"
   ]
  },
  {
   "cell_type": "markdown",
   "id": "6372a333",
   "metadata": {},
   "source": [
    "## Count occurrences of an element in a tuple"
   ]
  },
  {
   "cell_type": "code",
   "execution_count": 14,
   "id": "ab4b8709",
   "metadata": {},
   "outputs": [
    {
     "name": "stdout",
     "output_type": "stream",
     "text": [
      "3\n"
     ]
    }
   ],
   "source": [
    "numbers = (1, 2, 3, 2, 4, 2)\n",
    "print(numbers.count(2))  # Output: 3"
   ]
  },
  {
   "cell_type": "markdown",
   "id": "d34412ba",
   "metadata": {},
   "source": [
    "## Finding the index of an element in a tuple"
   ]
  },
  {
   "cell_type": "code",
   "execution_count": 15,
   "id": "3211d60d",
   "metadata": {},
   "outputs": [
    {
     "name": "stdout",
     "output_type": "stream",
     "text": [
      "2\n"
     ]
    }
   ],
   "source": [
    "numbers = (1, 2, 3, 2, 4, 2)\n",
    "print(numbers.index(3))  # Output: 2"
   ]
  },
  {
   "cell_type": "markdown",
   "id": "3ad71490",
   "metadata": {},
   "source": [
    "## Sorting a tuple"
   ]
  },
  {
   "cell_type": "code",
   "execution_count": 16,
   "id": "fb507bef",
   "metadata": {},
   "outputs": [
    {
     "name": "stdout",
     "output_type": "stream",
     "text": [
      "[1, 2, 3, 4, 5]\n"
     ]
    }
   ],
   "source": [
    "numbers = (3, 2, 1, 5, 4)\n",
    "sorted_numbers = sorted(numbers)\n",
    "print(sorted_numbers)  # Output: [1, 2, 3, 4, 5]"
   ]
  },
  {
   "cell_type": "markdown",
   "id": "4ad4a9d8",
   "metadata": {},
   "source": [
    "## Converting a tuple to a list"
   ]
  },
  {
   "cell_type": "code",
   "execution_count": 17,
   "id": "a31c4cde",
   "metadata": {},
   "outputs": [
    {
     "name": "stdout",
     "output_type": "stream",
     "text": [
      "['apple', 'banana', 'orange']\n"
     ]
    }
   ],
   "source": [
    "fruits = ('apple', 'banana', 'orange')\n",
    "fruits_list = list(fruits)\n",
    "print(fruits_list)  # Output: ['apple', 'banana', 'orange']"
   ]
  }
 ],
 "metadata": {
  "kernelspec": {
   "display_name": "Python 3 (ipykernel)",
   "language": "python",
   "name": "python3"
  },
  "language_info": {
   "codemirror_mode": {
    "name": "ipython",
    "version": 3
   },
   "file_extension": ".py",
   "mimetype": "text/x-python",
   "name": "python",
   "nbconvert_exporter": "python",
   "pygments_lexer": "ipython3",
   "version": "3.9.13"
  }
 },
 "nbformat": 4,
 "nbformat_minor": 5
}
