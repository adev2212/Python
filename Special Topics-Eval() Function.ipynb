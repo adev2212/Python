{
 "cells": [
  {
   "cell_type": "markdown",
   "id": "8d638a3d",
   "metadata": {},
   "source": [
    "# Eval() Function"
   ]
  },
  {
   "cell_type": "markdown",
   "id": "63378d05",
   "metadata": {},
   "source": [
    "The eval() function in Python is a built-in function that takes a string argument and evaluates it as a Python expression or statement. The result of the evaluation is returned as a Python object.\n",
    "\n",
    "The syntax of eval() is:\n",
    "\n",
    "eval(expression, globals=None, locals=None)"
   ]
  },
  {
   "cell_type": "code",
   "execution_count": 1,
   "id": "a6337386",
   "metadata": {},
   "outputs": [
    {
     "data": {
      "text/plain": [
       "10"
      ]
     },
     "execution_count": 1,
     "metadata": {},
     "output_type": "execute_result"
    }
   ],
   "source": [
    "eval(\"5+5\")"
   ]
  },
  {
   "cell_type": "code",
   "execution_count": 2,
   "id": "53606639",
   "metadata": {},
   "outputs": [
    {
     "data": {
      "text/plain": [
       "28.5"
      ]
     },
     "execution_count": 2,
     "metadata": {},
     "output_type": "execute_result"
    }
   ],
   "source": [
    "eval(\"5*5 + 7/2\")"
   ]
  },
  {
   "cell_type": "code",
   "execution_count": 3,
   "id": "bcae4bc1",
   "metadata": {},
   "outputs": [
    {
     "name": "stdout",
     "output_type": "stream",
     "text": [
      "Enter your question: 4+5\n"
     ]
    },
    {
     "data": {
      "text/plain": [
       "9"
      ]
     },
     "execution_count": 3,
     "metadata": {},
     "output_type": "execute_result"
    }
   ],
   "source": [
    "eval(input(\"Enter your question: \"))"
   ]
  },
  {
   "cell_type": "code",
   "execution_count": 4,
   "id": "b9359bdd",
   "metadata": {},
   "outputs": [],
   "source": [
    "def square_num(num):\n",
    "    return num**2"
   ]
  },
  {
   "cell_type": "code",
   "execution_count": 5,
   "id": "6f4303ca",
   "metadata": {},
   "outputs": [
    {
     "data": {
      "text/plain": [
       "4"
      ]
     },
     "execution_count": 5,
     "metadata": {},
     "output_type": "execute_result"
    }
   ],
   "source": [
    "eval(\"square_num(2)\")"
   ]
  },
  {
   "cell_type": "markdown",
   "id": "6abb8c2a",
   "metadata": {},
   "source": [
    "### How Eval work\n",
    "1. Parse python Experssion \n",
    "2. compile into a byte code\n",
    "3. Evaluate the python expression\n",
    "4. It will return the result"
   ]
  }
 ],
 "metadata": {
  "kernelspec": {
   "display_name": "Python 3 (ipykernel)",
   "language": "python",
   "name": "python3"
  },
  "language_info": {
   "codemirror_mode": {
    "name": "ipython",
    "version": 3
   },
   "file_extension": ".py",
   "mimetype": "text/x-python",
   "name": "python",
   "nbconvert_exporter": "python",
   "pygments_lexer": "ipython3",
   "version": "3.9.13"
  }
 },
 "nbformat": 4,
 "nbformat_minor": 5
}
