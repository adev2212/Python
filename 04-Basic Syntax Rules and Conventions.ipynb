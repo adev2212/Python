{
 "cells": [
  {
   "cell_type": "markdown",
   "id": "06fce238",
   "metadata": {},
   "source": [
    "## Basic Syntax Rules and Conventions:\n",
    "\n",
    "1. ### <span style=\"color:blue\">**Indentation**:</span>\n",
    "\n",
    "   - In Python, indentation is crucial for defining code blocks and determining the structure of the program.\n",
    "   - Indentation is used to group statements together and indicate the scope of control flow structures (e.g., loops and conditional statements).\n",
    "   - The standard convention in Python is to use **four spaces** for indentation. It is recommended to avoid using tabs or a different number of spaces to maintain consistency and readability."
   ]
  },
  {
   "cell_type": "code",
   "execution_count": 1,
   "id": "672160bd",
   "metadata": {},
   "outputs": [
    {
     "name": "stdout",
     "output_type": "stream",
     "text": [
      "x is positive.\n",
      "x is odd.\n",
      "End of program.\n"
     ]
    }
   ],
   "source": [
    "x = 5\n",
    "if x > 0:\n",
    "    print(\"x is positive.\")  # This line is indented with four spaces.\n",
    "\n",
    "    # This block of code is nested inside the if statement.\n",
    "    if x % 2 == 0:\n",
    "        print(\"x is even.\")  # This line is indented with eight spaces.\n",
    "    else:\n",
    "        print(\"x is odd.\")  # This line is indented with eight spaces.\n",
    "\n",
    "# This line is not indented, indicating that it is outside the if statement.\n",
    "print(\"End of program.\")\n"
   ]
  },
  {
   "cell_type": "markdown",
   "id": "b202ed3a",
   "metadata": {},
   "source": [
    "In this code, the indentation is crucial to define the structure and scope of the if statement. The indented code blocks represent the statements that are executed based on the condition. Here's a breakdown of how the indentation works:\n",
    "\n",
    "The line print(\"x is positive.\") is indented with four spaces, indicating that it belongs to the outer if statement.\n",
    "Inside the outer if statement, there is another if-else statement.\n",
    "The lines print(\"x is even.\") and print(\"x is odd.\") are further indented with eight spaces, showing that they are nested inside the inner if-else statement.\n",
    "Finally, the line print(\"End of program.\") is not indented, indicating that it is outside the if statement.\n",
    "The indentation is what allows Python to understand the hierarchical structure of the code and properly execute the corresponding blocks based on the conditions. Incorrect indentation can lead to syntax errors or logical errors in the program."
   ]
  },
  {
   "cell_type": "markdown",
   "id": "648ae4d2",
   "metadata": {},
   "source": [
    "2. ### <span style=\"color:blue\">**Comments**:</span>\n",
    "   - Comments are used to add explanations, notes, or documentation within the code. They are ignored by the Python interpreter and do not affect the program's execution.\n",
    "   - Single-line comments are created using the `#` symbol. Anything after the `#` symbol on the same line is considered a comment.\n",
    "   - Multi-line comments can be created using triple quotes (`\"\"\"` or `'''`). Any text enclosed between the triple quotes is treated as a comment."
   ]
  },
  {
   "cell_type": "code",
   "execution_count": 2,
   "id": "5c5f8133",
   "metadata": {},
   "outputs": [
    {
     "name": "stdout",
     "output_type": "stream",
     "text": [
      "Welcome to my Python program!\n",
      "The sum of 10 and 5 is 15\n",
      "The average of 10 , 5 , and 7 is 7.333333333333333\n"
     ]
    }
   ],
   "source": [
    "# Example of comments\n",
    "\n",
    "# This line prints a welcome message\n",
    "print(\"Welcome to my Python program!\")\n",
    "\n",
    "# Calculating the sum of two numbers\n",
    "number1 = 10\n",
    "number2 = 5\n",
    "sum = number1 + number2\n",
    "\n",
    "# Printing the sum\n",
    "print(\"The sum of\", number1, \"and\", number2, \"is\", sum)\n",
    "\n",
    "# This is a multi-line comment\n",
    "\"\"\"\n",
    "Here, we will calculate the average of three numbers:\n",
    "number1, number2, and number3.\n",
    "\"\"\"\n",
    "\n",
    "# Adding a third number\n",
    "number3 = 7\n",
    "\n",
    "# Calculating the average\n",
    "average = (number1 + number2 + number3) / 3\n",
    "\n",
    "# Printing the average\n",
    "print(\"The average of\", number1, \",\", number2, \", and\", number3, \"is\", average)"
   ]
  },
  {
   "cell_type": "markdown",
   "id": "7cce789b",
   "metadata": {},
   "source": [
    "In this code, comments are used to provide explanations and notes about the code. Here's a breakdown of the different types of comments used:\n",
    "\n",
    "- Single-line comments are created using the `#` symbol. They can be used to provide explanations for individual lines of code.\n",
    "- The line `# This line prints a welcome message` is an example of a single-line comment.\n",
    "- Multi-line comments are created using triple quotes (`\"\"\"` or `'''`). They can span across multiple lines and are often used for longer explanations or documentation.\n",
    "- The lines between `\"\"\"` and `\"\"\"` are an example of a multi-line comment. They provide an explanation of the code block that follows.\n",
    "\n",
    "Comments are ignored by the Python interpreter and do not affect the execution of the program. They are helpful for documenting your code, making it more readable, and providing insights into the purpose and functionality of different parts of the code.\n",
    "\n",
    "Remember to use comments effectively to enhance the understanding of your code, especially for complex logic or sections that might require additional context."
   ]
  },
  {
   "cell_type": "markdown",
   "id": "114c2890",
   "metadata": {},
   "source": [
    "3. ### <span style=\"color:blue\">**Print Statements and Output Formatting**:</span>\n",
    "   - The `print()` function is used to display output in Python. It takes one or more arguments and prints them to the console.\n",
    "   - Basic `print()` statements can be created by passing the desired values or variables as arguments.\n",
    "   - Output formatting can be achieved using string concatenation (combining strings with variables or other values) or f-strings (formatted string literals)."
   ]
  },
  {
   "cell_type": "code",
   "execution_count": 3,
   "id": "22ca7295",
   "metadata": {},
   "outputs": [
    {
     "name": "stdout",
     "output_type": "stream",
     "text": [
      "Hello, Python!\n",
      "My name is Alice and I am 25 years old.\n",
      "My name is Alice and I earn $2500.5 per month.\n",
      "My name is Alice and I earn $2500.5 per month.\n"
     ]
    }
   ],
   "source": [
    "# Example of print statements and output formatting\n",
    "\n",
    "name = \"Alice\"\n",
    "age = 25\n",
    "salary = 2500.50\n",
    "\n",
    "# Basic print statement\n",
    "print(\"Hello, Python!\")\n",
    "\n",
    "# Printing variables with a string\n",
    "print(\"My name is\", name, \"and I am\", age, \"years old.\")\n",
    "\n",
    "# Output formatting using string concatenation\n",
    "print(\"My name is \" + name + \" and I earn $\" + str(salary) + \" per month.\")\n",
    "\n",
    "# Output formatting using f-strings (formatted string literals)\n",
    "print(f\"My name is {name} and I earn ${salary} per month.\")"
   ]
  },
  {
   "cell_type": "markdown",
   "id": "eac0dc60",
   "metadata": {},
   "source": [
    "In this code, we have different examples of print statements and output formatting:\n",
    "\n",
    "- The line `print(\"Hello, Python!\")` is a basic print statement that displays the string \"Hello, Python!\" in the console.\n",
    "\n",
    "- The line `print(\"My name is\", name, \"and I am\", age, \"years old.\")` demonstrates how to print variables along with a string using commas as separators. The values of the `name` and `age` variables are automatically separated by spaces in the output.\n",
    "\n",
    "- The line `print(\"My name is \" + name + \" and I earn $\" + str(salary) + \" per month.\")` showcases output formatting using string concatenation. The `+` operator is used to concatenate different strings together, including the values of the `name` and `salary` variables. Note that the `salary` variable is converted to a string using the `str()` function before concatenation.\n",
    "\n",
    "- The line `print(f\"My name is {name} and I earn ${salary} per month.\")` demonstrates output formatting using f-strings (formatted string literals). The variables `name` and `salary` are directly placed inside curly braces `{}` within the string. The values of the variables are automatically substituted in the output.\n",
    "\n",
    "Both string concatenation and f-strings are effective ways to format output in Python, allowing you to combine variables and strings in a readable and convenient manner.\n",
    "\n",
    "Remember to use the appropriate method based on your preference and the complexity of the output formatting you require."
   ]
  }
 ],
 "metadata": {
  "kernelspec": {
   "display_name": "Python 3 (ipykernel)",
   "language": "python",
   "name": "python3"
  },
  "language_info": {
   "codemirror_mode": {
    "name": "ipython",
    "version": 3
   },
   "file_extension": ".py",
   "mimetype": "text/x-python",
   "name": "python",
   "nbconvert_exporter": "python",
   "pygments_lexer": "ipython3",
   "version": "3.9.13"
  }
 },
 "nbformat": 4,
 "nbformat_minor": 5
}
