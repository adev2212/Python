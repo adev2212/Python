{
 "cells": [
  {
   "cell_type": "markdown",
   "id": "1f5ecd39",
   "metadata": {},
   "source": [
    "# Object-Oriented Programming (OOP) \n",
    "It is a programming paradigm that organizes code into objects, which are instances of classes. OOP provides a way to structure and modularize code by focusing on objects and their interactions."
   ]
  },
  {
   "cell_type": "markdown",
   "id": "aab4522a",
   "metadata": {},
   "source": [
    "#### Here are brief explanations of some key concepts in OOP:\n",
    "\n",
    "## 1. Classes and Objects:\n",
    "   - A class is a blueprint or a template that defines the structure and behavior of objects.\n",
    "   - An object is an instance of a class. It represents a specific entity with its own state and behavior."
   ]
  },
  {
   "cell_type": "code",
   "execution_count": 1,
   "id": "80730232",
   "metadata": {},
   "outputs": [
    {
     "name": "stdout",
     "output_type": "stream",
     "text": [
      "Toyota\n",
      "blue\n",
      "The red Toyota is driving.\n"
     ]
    }
   ],
   "source": [
    "class Car:\n",
    "    def __init__(self, brand, color):\n",
    "        self.brand = brand\n",
    "        self.color = color\n",
    "    \n",
    "    def drive(self):\n",
    "        print(f\"The {self.color} {self.brand} is driving.\")\n",
    "\n",
    "# Creating objects (instances) of the Car class\n",
    "car1 = Car(\"Toyota\", \"red\")\n",
    "car2 = Car(\"BMW\", \"blue\")\n",
    "\n",
    "# Accessing object attributes and invoking methods\n",
    "print(car1.brand)  # Output: Toyota\n",
    "print(car2.color)  # Output: blue\n",
    "car1.drive()  # Output: The red Toyota is driving."
   ]
  },
  {
   "cell_type": "markdown",
   "id": "90bd19ef",
   "metadata": {},
   "source": [
    "## 2. Inheritance and Polymorphism:\n",
    "   - Inheritance allows you to create a new class (subclass) by deriving from an existing class (superclass). The subclass inherits the attributes and methods of the superclass.\n",
    "   - Polymorphism refers to the ability of an object to take on different forms. It allows objects of different classes to be treated as objects of a common superclass, enabling code reuse and flexibility."
   ]
  },
  {
   "cell_type": "code",
   "execution_count": 2,
   "id": "bef73bff",
   "metadata": {},
   "outputs": [
    {
     "name": "stdout",
     "output_type": "stream",
     "text": [
      "Woof!\n",
      "Meow!\n"
     ]
    }
   ],
   "source": [
    "class Animal:\n",
    "    def __init__(self, name):\n",
    "        self.name = name\n",
    "    \n",
    "    def make_sound(self):\n",
    "        pass\n",
    "\n",
    "class Dog(Animal):\n",
    "    def make_sound(self):\n",
    "        print(\"Woof!\")\n",
    "\n",
    "class Cat(Animal):\n",
    "    def make_sound(self):\n",
    "        print(\"Meow!\")\n",
    "\n",
    "# Polymorphic behavior\n",
    "animals = [Dog(\"Buddy\"), Cat(\"Whiskers\")]\n",
    "for animal in animals:\n",
    "    animal.make_sound()"
   ]
  },
  {
   "cell_type": "markdown",
   "id": "7941fd49",
   "metadata": {},
   "source": [
    "## 3. Encapsulation and Abstraction:\n",
    "   - Encapsulation is the bundling of data and methods/functions that operate on that data into a single unit called a class. It hides the internal details and provides a public interface to interact with the object.\n",
    "   - Abstraction involves focusing on essential characteristics and behaviors while hiding unnecessary details. It allows you to create abstract classes or interfaces that define common behavior, without providing implementation details."
   ]
  },
  {
   "cell_type": "code",
   "execution_count": 3,
   "id": "434ed960",
   "metadata": {},
   "outputs": [
    {
     "name": "stdout",
     "output_type": "stream",
     "text": [
      "1300\n"
     ]
    }
   ],
   "source": [
    "class BankAccount:\n",
    "    def __init__(self, account_number, balance):\n",
    "        self._account_number = account_number  # Encapsulated attribute\n",
    "        self._balance = balance  # Encapsulated attribute\n",
    "    \n",
    "    def deposit(self, amount):\n",
    "        self._balance += amount\n",
    "    \n",
    "    def withdraw(self, amount):\n",
    "        if amount <= self._balance:\n",
    "            self._balance -= amount\n",
    "        else:\n",
    "            print(\"Insufficient balance.\")\n",
    "    \n",
    "    def get_balance(self):\n",
    "        return self._balance\n",
    "\n",
    "# Abstraction through public interface\n",
    "account = BankAccount(\"123456789\", 1000)\n",
    "account.deposit(500)\n",
    "account.withdraw(200)\n",
    "print(account.get_balance())  # Output: 1300"
   ]
  },
  {
   "cell_type": "markdown",
   "id": "b53530fc",
   "metadata": {},
   "source": [
    "In OOP, you create classes with properties (attributes) and methods (functions) to represent entities and their behaviors. Objects are then created from these classes, allowing you to interact with the data and invoke the methods.\n",
    "\n",
    "By using inheritance, you can create specialized classes that inherit common behavior and add additional functionality. Polymorphism enables objects to be treated interchangeably, enhancing code flexibility and extensibility.\n",
    "\n",
    "Encapsulation helps in encapsulating related data and methods within a class, providing data protection and abstraction. Abstraction allows you to create abstract classes or interfaces to define common behavior without exposing implementation details.\n",
    "\n",
    "These concepts collectively provide a powerful way to structure and organize code in an object-oriented manner, promoting modularity, reusability, and maintainability."
   ]
  },
  {
   "cell_type": "markdown",
   "id": "faf120ef",
   "metadata": {},
   "source": [
    "# Public, Protected And Private"
   ]
  },
  {
   "cell_type": "markdown",
   "id": "01c2e0d2",
   "metadata": {},
   "source": [
    "### PUBLIC\n",
    "All the class variables are public"
   ]
  },
  {
   "cell_type": "code",
   "execution_count": 1,
   "id": "af240a31",
   "metadata": {},
   "outputs": [],
   "source": [
    "class Car():\n",
    "    def __init__(self,windows,doors,enginetype):\n",
    "        self.windows=windows\n",
    "        self.doors=doors\n",
    "        self.enginetype=enginetype"
   ]
  },
  {
   "cell_type": "code",
   "execution_count": 2,
   "id": "2240372b",
   "metadata": {},
   "outputs": [],
   "source": [
    "nano=Car(4,5,\"Diesel\")"
   ]
  },
  {
   "cell_type": "code",
   "execution_count": 3,
   "id": "36b9d40e",
   "metadata": {},
   "outputs": [],
   "source": [
    "nano.windows=5"
   ]
  },
  {
   "cell_type": "code",
   "execution_count": 4,
   "id": "92ebb7d7",
   "metadata": {},
   "outputs": [
    {
     "data": {
      "text/plain": [
       "5"
      ]
     },
     "execution_count": 4,
     "metadata": {},
     "output_type": "execute_result"
    }
   ],
   "source": [
    "nano.windows"
   ]
  },
  {
   "cell_type": "markdown",
   "id": "0c3e8ace",
   "metadata": {},
   "source": [
    "### PROTECTED\n",
    "All the class variables are protected"
   ]
  },
  {
   "cell_type": "code",
   "execution_count": 5,
   "id": "ef57da3e",
   "metadata": {},
   "outputs": [],
   "source": [
    "class Car1():\n",
    "    def __init__(self,windows,doors,enginetype):\n",
    "        self._windows=windows\n",
    "        self._doors=doors\n",
    "        self._enginetype=enginetype"
   ]
  },
  {
   "cell_type": "code",
   "execution_count": 6,
   "id": "85d3f65c",
   "metadata": {},
   "outputs": [],
   "source": [
    "class Truck(Car1):\n",
    "    def __init__(self,windows,doors,enginetype,horsepower):\n",
    "        super().__init__(windows,doors,enginetype)\n",
    "        self.horsepowwer=horsepower"
   ]
  },
  {
   "cell_type": "code",
   "execution_count": 7,
   "id": "0d78327b",
   "metadata": {},
   "outputs": [
    {
     "data": {
      "text/plain": [
       "['__class__',\n",
       " '__delattr__',\n",
       " '__dict__',\n",
       " '__dir__',\n",
       " '__doc__',\n",
       " '__eq__',\n",
       " '__format__',\n",
       " '__ge__',\n",
       " '__getattribute__',\n",
       " '__gt__',\n",
       " '__hash__',\n",
       " '__init__',\n",
       " '__init_subclass__',\n",
       " '__le__',\n",
       " '__lt__',\n",
       " '__module__',\n",
       " '__ne__',\n",
       " '__new__',\n",
       " '__reduce__',\n",
       " '__reduce_ex__',\n",
       " '__repr__',\n",
       " '__setattr__',\n",
       " '__sizeof__',\n",
       " '__str__',\n",
       " '__subclasshook__',\n",
       " '__weakref__',\n",
       " '_doors',\n",
       " '_enginetype',\n",
       " '_windows',\n",
       " 'horsepowwer']"
      ]
     },
     "execution_count": 7,
     "metadata": {},
     "output_type": "execute_result"
    }
   ],
   "source": [
    "truck=Truck(4,4,\"Diesel\",4000)\n",
    "dir(truck)"
   ]
  },
  {
   "cell_type": "code",
   "execution_count": 8,
   "id": "3a66c0d5",
   "metadata": {},
   "outputs": [],
   "source": [
    "truck._doors=5"
   ]
  },
  {
   "cell_type": "code",
   "execution_count": 9,
   "id": "c90ed6ca",
   "metadata": {},
   "outputs": [
    {
     "data": {
      "text/plain": [
       "5"
      ]
     },
     "execution_count": 9,
     "metadata": {},
     "output_type": "execute_result"
    }
   ],
   "source": [
    "truck._doors"
   ]
  },
  {
   "cell_type": "markdown",
   "id": "62ef774f",
   "metadata": {},
   "source": [
    "### PRIVATE\n",
    "All the class variables are private"
   ]
  },
  {
   "cell_type": "code",
   "execution_count": 10,
   "id": "08eb4276",
   "metadata": {},
   "outputs": [],
   "source": [
    "class Car2():\n",
    "    def __init__(self,windows,doors,enginetype):\n",
    "        self.__windows=windows\n",
    "        self.__doors=doors\n",
    "        self.__enginetype=enginetype"
   ]
  },
  {
   "cell_type": "code",
   "execution_count": 11,
   "id": "302ef4c1",
   "metadata": {},
   "outputs": [],
   "source": [
    "audi=Car2(4,4,\"Diesel\")"
   ]
  },
  {
   "cell_type": "code",
   "execution_count": 12,
   "id": "aeb403b3",
   "metadata": {},
   "outputs": [],
   "source": [
    "audi._Car__doors=5"
   ]
  },
  {
   "cell_type": "code",
   "execution_count": 13,
   "id": "b24e46f1",
   "metadata": {},
   "outputs": [
    {
     "data": {
      "text/plain": [
       "['_Car2__doors',\n",
       " '_Car2__enginetype',\n",
       " '_Car2__windows',\n",
       " '_Car__doors',\n",
       " '__class__',\n",
       " '__delattr__',\n",
       " '__dict__',\n",
       " '__dir__',\n",
       " '__doc__',\n",
       " '__eq__',\n",
       " '__format__',\n",
       " '__ge__',\n",
       " '__getattribute__',\n",
       " '__gt__',\n",
       " '__hash__',\n",
       " '__init__',\n",
       " '__init_subclass__',\n",
       " '__le__',\n",
       " '__lt__',\n",
       " '__module__',\n",
       " '__ne__',\n",
       " '__new__',\n",
       " '__reduce__',\n",
       " '__reduce_ex__',\n",
       " '__repr__',\n",
       " '__setattr__',\n",
       " '__sizeof__',\n",
       " '__str__',\n",
       " '__subclasshook__',\n",
       " '__weakref__']"
      ]
     },
     "execution_count": 13,
     "metadata": {},
     "output_type": "execute_result"
    }
   ],
   "source": [
    "dir(audi)"
   ]
  },
  {
   "cell_type": "markdown",
   "id": "d9eb9db8",
   "metadata": {},
   "source": [
    "# OOPS in Python"
   ]
  },
  {
   "cell_type": "code",
   "execution_count": 14,
   "id": "3f3a5b86",
   "metadata": {},
   "outputs": [],
   "source": [
    "class Newcar1:\n",
    "    pass"
   ]
  },
  {
   "cell_type": "code",
   "execution_count": 15,
   "id": "df641104",
   "metadata": {},
   "outputs": [],
   "source": [
    "elantra=Newcar1()"
   ]
  },
  {
   "cell_type": "code",
   "execution_count": 16,
   "id": "631496ff",
   "metadata": {},
   "outputs": [
    {
     "data": {
      "text/plain": [
       "<__main__.Newcar1 at 0x7fa4f04e1ee0>"
      ]
     },
     "execution_count": 16,
     "metadata": {},
     "output_type": "execute_result"
    }
   ],
   "source": [
    "elantra"
   ]
  },
  {
   "cell_type": "code",
   "execution_count": 17,
   "id": "f00dc13d",
   "metadata": {},
   "outputs": [
    {
     "data": {
      "text/plain": [
       "['__class__',\n",
       " '__delattr__',\n",
       " '__dict__',\n",
       " '__dir__',\n",
       " '__doc__',\n",
       " '__eq__',\n",
       " '__format__',\n",
       " '__ge__',\n",
       " '__getattribute__',\n",
       " '__gt__',\n",
       " '__hash__',\n",
       " '__init__',\n",
       " '__init_subclass__',\n",
       " '__le__',\n",
       " '__lt__',\n",
       " '__module__',\n",
       " '__ne__',\n",
       " '__new__',\n",
       " '__reduce__',\n",
       " '__reduce_ex__',\n",
       " '__repr__',\n",
       " '__setattr__',\n",
       " '__sizeof__',\n",
       " '__str__',\n",
       " '__subclasshook__',\n",
       " '__weakref__']"
      ]
     },
     "execution_count": 17,
     "metadata": {},
     "output_type": "execute_result"
    }
   ],
   "source": [
    "dir(elantra)"
   ]
  },
  {
   "cell_type": "code",
   "execution_count": 18,
   "id": "dade76d8",
   "metadata": {},
   "outputs": [],
   "source": [
    "elantra.doors=5\n",
    "elantra.windows=3"
   ]
  },
  {
   "cell_type": "code",
   "execution_count": 19,
   "id": "ad9e8a9a",
   "metadata": {},
   "outputs": [
    {
     "name": "stdout",
     "output_type": "stream",
     "text": [
      "5\n"
     ]
    }
   ],
   "source": [
    "print(elantra.doors)"
   ]
  },
  {
   "cell_type": "code",
   "execution_count": 20,
   "id": "ff64031d",
   "metadata": {},
   "outputs": [
    {
     "data": {
      "text/plain": [
       "['__class__',\n",
       " '__delattr__',\n",
       " '__dict__',\n",
       " '__dir__',\n",
       " '__doc__',\n",
       " '__eq__',\n",
       " '__format__',\n",
       " '__ge__',\n",
       " '__getattribute__',\n",
       " '__gt__',\n",
       " '__hash__',\n",
       " '__init__',\n",
       " '__init_subclass__',\n",
       " '__le__',\n",
       " '__lt__',\n",
       " '__module__',\n",
       " '__ne__',\n",
       " '__new__',\n",
       " '__reduce__',\n",
       " '__reduce_ex__',\n",
       " '__repr__',\n",
       " '__setattr__',\n",
       " '__sizeof__',\n",
       " '__str__',\n",
       " '__subclasshook__',\n",
       " '__weakref__',\n",
       " 'doors',\n",
       " 'windows']"
      ]
     },
     "execution_count": 20,
     "metadata": {},
     "output_type": "execute_result"
    }
   ],
   "source": [
    "dir(elantra)"
   ]
  },
  {
   "cell_type": "code",
   "execution_count": 21,
   "id": "42be972a",
   "metadata": {},
   "outputs": [],
   "source": [
    "sonata=Newcar1()"
   ]
  },
  {
   "cell_type": "code",
   "execution_count": 22,
   "id": "34311a99",
   "metadata": {},
   "outputs": [],
   "source": [
    "sonata.doors=4\n",
    "sonata.windows=5\n",
    "sonata.enginetype='petrol'"
   ]
  },
  {
   "cell_type": "code",
   "execution_count": 23,
   "id": "913ceb1c",
   "metadata": {},
   "outputs": [
    {
     "name": "stdout",
     "output_type": "stream",
     "text": [
      "petrol\n"
     ]
    }
   ],
   "source": [
    "print(sonata.enginetype)"
   ]
  },
  {
   "cell_type": "code",
   "execution_count": 24,
   "id": "720aab7b",
   "metadata": {},
   "outputs": [],
   "source": [
    "class Newcar2:\n",
    "    def __init__(self,window,door,enginetype):\n",
    "        self.window=window\n",
    "        self.door=door\n",
    "        self.enginetype=enginetype\n",
    "    def self_enginetype(self):\n",
    "        return \"this is a {} car\".format(self.enginetype)"
   ]
  },
  {
   "cell_type": "code",
   "execution_count": 25,
   "id": "4c3ab896",
   "metadata": {},
   "outputs": [],
   "source": [
    "swift=Newcar2(4,5,'petrol')"
   ]
  },
  {
   "cell_type": "code",
   "execution_count": 26,
   "id": "e2259faf",
   "metadata": {},
   "outputs": [
    {
     "data": {
      "text/plain": [
       "['__class__',\n",
       " '__delattr__',\n",
       " '__dict__',\n",
       " '__dir__',\n",
       " '__doc__',\n",
       " '__eq__',\n",
       " '__format__',\n",
       " '__ge__',\n",
       " '__getattribute__',\n",
       " '__gt__',\n",
       " '__hash__',\n",
       " '__init__',\n",
       " '__init_subclass__',\n",
       " '__le__',\n",
       " '__lt__',\n",
       " '__module__',\n",
       " '__ne__',\n",
       " '__new__',\n",
       " '__reduce__',\n",
       " '__reduce_ex__',\n",
       " '__repr__',\n",
       " '__setattr__',\n",
       " '__sizeof__',\n",
       " '__str__',\n",
       " '__subclasshook__',\n",
       " '__weakref__',\n",
       " 'door',\n",
       " 'enginetype',\n",
       " 'self_enginetype',\n",
       " 'window']"
      ]
     },
     "execution_count": 26,
     "metadata": {},
     "output_type": "execute_result"
    }
   ],
   "source": [
    "dir(swift)"
   ]
  },
  {
   "cell_type": "code",
   "execution_count": 27,
   "id": "50c7c8e2",
   "metadata": {},
   "outputs": [
    {
     "data": {
      "text/plain": [
       "'this is a petrol car'"
      ]
     },
     "execution_count": 27,
     "metadata": {},
     "output_type": "execute_result"
    }
   ],
   "source": [
    "swift.self_enginetype()"
   ]
  },
  {
   "cell_type": "markdown",
   "id": "e9ff52de",
   "metadata": {},
   "source": [
    "# Magic Methods In Classes"
   ]
  },
  {
   "cell_type": "code",
   "execution_count": 28,
   "id": "2a2cec62",
   "metadata": {},
   "outputs": [],
   "source": [
    "class Newcar3:\n",
    "    def __init__(self,window,door,enginetype):\n",
    "        self.window=window\n",
    "        self.door=door\n",
    "        self.enginetype=enginetype\n",
    "    def drive(self):\n",
    "        print(\"The person drive the car\")"
   ]
  },
  {
   "cell_type": "code",
   "execution_count": 29,
   "id": "9737aa1b",
   "metadata": {},
   "outputs": [],
   "source": [
    "mercedes=Newcar3(4,5,'Diesel')"
   ]
  },
  {
   "cell_type": "code",
   "execution_count": 30,
   "id": "28fecda1",
   "metadata": {},
   "outputs": [
    {
     "name": "stdout",
     "output_type": "stream",
     "text": [
      "<__main__.Newcar3 object at 0x7fa4f04ffc40>\n"
     ]
    }
   ],
   "source": [
    "print(mercedes)"
   ]
  },
  {
   "cell_type": "code",
   "execution_count": 31,
   "id": "f2080a00",
   "metadata": {},
   "outputs": [
    {
     "data": {
      "text/plain": [
       "32"
      ]
     },
     "execution_count": 31,
     "metadata": {},
     "output_type": "execute_result"
    }
   ],
   "source": [
    "mercedes.__sizeof__()"
   ]
  },
  {
   "cell_type": "code",
   "execution_count": 32,
   "id": "5e495eef",
   "metadata": {},
   "outputs": [
    {
     "name": "stdout",
     "output_type": "stream",
     "text": [
      "1 <class '__main__.Newcar3'>\n",
      "2 <method-wrapper '__delattr__' of Newcar3 object at 0x7fa4f04ffc40>\n",
      "3 {'window': 4, 'door': 5, 'enginetype': 'Diesel'}\n",
      "4 None\n",
      "5 <method-wrapper '__eq__' of Newcar3 object at 0x7fa4f04ffc40>\n",
      "6 <built-in method __format__ of Newcar3 object at 0x7fa4f04ffc40>\n",
      "7 <method-wrapper '__ge__' of Newcar3 object at 0x7fa4f04ffc40>\n",
      "8 <method-wrapper '__getattribute__' of Newcar3 object at 0x7fa4f04ffc40>\n",
      "9 <method-wrapper '__gt__' of Newcar3 object at 0x7fa4f04ffc40>\n",
      "10 <method-wrapper '__hash__' of Newcar3 object at 0x7fa4f04ffc40>\n",
      "11 <method-wrapper '__le__' of Newcar3 object at 0x7fa4f04ffc40>\n",
      "12 <method-wrapper '__lt__' of Newcar3 object at 0x7fa4f04ffc40>\n",
      "13 __main__\n",
      "14 <method-wrapper '__ne__' of Newcar3 object at 0x7fa4f04ffc40>\n",
      "15 <built-in method __new__ of type object at 0x1031938b8>\n",
      "16 <built-in method __reduce__ of Newcar3 object at 0x7fa4f04ffc40>\n",
      "17 <built-in method __reduce_ex__ of Newcar3 object at 0x7fa4f04ffc40>\n",
      "18 <method-wrapper '__repr__' of Newcar3 object at 0x7fa4f04ffc40>\n",
      "19 <method-wrapper '__setattr__' of Newcar3 object at 0x7fa4f04ffc40>\n",
      "20 None\n"
     ]
    }
   ],
   "source": [
    "print(\"1\",mercedes.__class__)\n",
    "print(\"2\",mercedes.__delattr__)\n",
    "print(\"3\",mercedes.__dict__)\n",
    "print(\"4\",mercedes.__doc__)\n",
    "print(\"5\",mercedes.__eq__)\n",
    "print(\"6\",mercedes.__format__)\n",
    "print(\"7\",mercedes.__ge__)\n",
    "print(\"8\",mercedes.__getattribute__)\n",
    "print(\"9\",mercedes.__gt__)\n",
    "print(\"10\",mercedes.__hash__)\n",
    "print(\"11\",mercedes.__le__)\n",
    "print(\"12\",mercedes.__lt__)\n",
    "print(\"13\",mercedes.__module__)\n",
    "print(\"14\",mercedes.__ne__)\n",
    "print(\"15\",mercedes.__new__)\n",
    "print(\"16\",mercedes.__reduce__)\n",
    "print(\"17\",mercedes.__reduce_ex__)\n",
    "print(\"18\",mercedes.__repr__)\n",
    "print(\"19\",mercedes.__setattr__)\n",
    "print(\"20\",mercedes.__weakref__)"
   ]
  },
  {
   "cell_type": "code",
   "execution_count": 33,
   "id": "76bca728",
   "metadata": {},
   "outputs": [
    {
     "data": {
      "text/plain": [
       "['__class__',\n",
       " '__delattr__',\n",
       " '__dict__',\n",
       " '__dir__',\n",
       " '__doc__',\n",
       " '__eq__',\n",
       " '__format__',\n",
       " '__ge__',\n",
       " '__getattribute__',\n",
       " '__gt__',\n",
       " '__hash__',\n",
       " '__init__',\n",
       " '__init_subclass__',\n",
       " '__le__',\n",
       " '__lt__',\n",
       " '__module__',\n",
       " '__ne__',\n",
       " '__new__',\n",
       " '__reduce__',\n",
       " '__reduce_ex__',\n",
       " '__repr__',\n",
       " '__setattr__',\n",
       " '__sizeof__',\n",
       " '__str__',\n",
       " '__subclasshook__',\n",
       " '__weakref__',\n",
       " 'door',\n",
       " 'drive',\n",
       " 'enginetype',\n",
       " 'window']"
      ]
     },
     "execution_count": 33,
     "metadata": {},
     "output_type": "execute_result"
    }
   ],
   "source": [
    "dir(mercedes)"
   ]
  },
  {
   "cell_type": "markdown",
   "id": "97bdb4fe",
   "metadata": {},
   "source": [
    "We can rewrite the present method"
   ]
  },
  {
   "cell_type": "code",
   "execution_count": 34,
   "id": "f6252a9d",
   "metadata": {},
   "outputs": [],
   "source": [
    "class Newcar4:\n",
    "    def __init__(self,window,door,enginetype):\n",
    "        self.window=window\n",
    "        self.door=door\n",
    "        self.enginetype=enginetype\n",
    "    def __str__(self):\n",
    "        return 'The object is vehcile'\n",
    "    def __sizeof__(self):\n",
    "        return 'This display the size of object'\n",
    "    def drive(self):\n",
    "        print(\"The person drive the car\")"
   ]
  },
  {
   "cell_type": "code",
   "execution_count": 35,
   "id": "702433c5",
   "metadata": {},
   "outputs": [],
   "source": [
    "mercedes1=Newcar4(4,5,'Diesel')"
   ]
  },
  {
   "cell_type": "code",
   "execution_count": 36,
   "id": "c2badb9c",
   "metadata": {},
   "outputs": [
    {
     "name": "stdout",
     "output_type": "stream",
     "text": [
      "The object is vehcile\n"
     ]
    }
   ],
   "source": [
    "print(mercedes1)"
   ]
  },
  {
   "cell_type": "code",
   "execution_count": 37,
   "id": "e663f16c",
   "metadata": {},
   "outputs": [
    {
     "data": {
      "text/plain": [
       "'This display the size of object'"
      ]
     },
     "execution_count": 37,
     "metadata": {},
     "output_type": "execute_result"
    }
   ],
   "source": [
    "mercedes1.__sizeof__()"
   ]
  },
  {
   "cell_type": "code",
   "execution_count": null,
   "id": "d54296cd",
   "metadata": {},
   "outputs": [],
   "source": []
  },
  {
   "cell_type": "markdown",
   "id": "11a6e59f",
   "metadata": {},
   "source": [
    "# Inheritance"
   ]
  },
  {
   "cell_type": "code",
   "execution_count": 38,
   "id": "aea675f7",
   "metadata": {},
   "outputs": [],
   "source": [
    "class Newcar5:\n",
    "    def __init__(self,window,door,enginetype):\n",
    "        self.window=window\n",
    "        self.door=door\n",
    "        self.enginetype=enginetype\n",
    "    def drive(self):\n",
    "        print(\"The person drive the car\")"
   ]
  },
  {
   "cell_type": "code",
   "execution_count": 39,
   "id": "1fc8b70d",
   "metadata": {},
   "outputs": [],
   "source": [
    "alto=Newcar5(4,5,'diesel')"
   ]
  },
  {
   "cell_type": "code",
   "execution_count": 40,
   "id": "c410c044",
   "metadata": {},
   "outputs": [
    {
     "data": {
      "text/plain": [
       "4"
      ]
     },
     "execution_count": 40,
     "metadata": {},
     "output_type": "execute_result"
    }
   ],
   "source": [
    "alto.window"
   ]
  },
  {
   "cell_type": "code",
   "execution_count": 41,
   "id": "d5e9ef31",
   "metadata": {},
   "outputs": [],
   "source": [
    "class Truck(Newcar5):\n",
    "    def __init__(self,window,door,enginetype,loadcapability):\n",
    "        super().__init__(window,door,enginetype)\n",
    "        self.loadcapability=loadcapability\n",
    "    def loadcarry(self):\n",
    "        print('The truck can carry {}kg loads'.format(self.loadcapability))"
   ]
  },
  {
   "cell_type": "code",
   "execution_count": 42,
   "id": "4f2eb1b4",
   "metadata": {},
   "outputs": [],
   "source": [
    "truck1=Truck(4,5,'petrol',120)"
   ]
  },
  {
   "cell_type": "code",
   "execution_count": 43,
   "id": "ef0c6ba9",
   "metadata": {},
   "outputs": [
    {
     "name": "stdout",
     "output_type": "stream",
     "text": [
      "The truck can carry 120kg loads\n"
     ]
    }
   ],
   "source": [
    "truck1.loadcarry()"
   ]
  },
  {
   "cell_type": "markdown",
   "id": "78f465a3",
   "metadata": {},
   "source": [
    "# Multiple Inheritance"
   ]
  },
  {
   "cell_type": "code",
   "execution_count": 44,
   "id": "87fb1ef3",
   "metadata": {},
   "outputs": [],
   "source": [
    "class A:\n",
    "    def method_A(self):\n",
    "        print(\"A method_A\")"
   ]
  },
  {
   "cell_type": "code",
   "execution_count": 45,
   "id": "abd6b967",
   "metadata": {},
   "outputs": [],
   "source": [
    "class B(A):\n",
    "    def method_B1(self):\n",
    "        print(\"B method_B1\")\n",
    "    def method_B2(self):\n",
    "        print(\"B method_B2\")"
   ]
  },
  {
   "cell_type": "code",
   "execution_count": 46,
   "id": "e5d3ad52",
   "metadata": {},
   "outputs": [],
   "source": [
    "class C(A):\n",
    "    def method_C(self):\n",
    "        print(\"C method_C\")"
   ]
  },
  {
   "cell_type": "code",
   "execution_count": 47,
   "id": "1f69e159",
   "metadata": {},
   "outputs": [],
   "source": [
    "class D(B,C):\n",
    "    def method_D(self):\n",
    "        A.method_A(self)\n",
    "        print(\"D method_D\")\n",
    "        C.method_C(self)"
   ]
  },
  {
   "cell_type": "code",
   "execution_count": 48,
   "id": "0d2b0aff",
   "metadata": {},
   "outputs": [],
   "source": [
    "d=D()"
   ]
  },
  {
   "cell_type": "code",
   "execution_count": 49,
   "id": "95fea5c9",
   "metadata": {},
   "outputs": [
    {
     "name": "stdout",
     "output_type": "stream",
     "text": [
      "A method_A\n",
      "D method_D\n",
      "C method_C\n"
     ]
    }
   ],
   "source": [
    "d.method_D()"
   ]
  },
  {
   "cell_type": "code",
   "execution_count": 50,
   "id": "8e30ce2d",
   "metadata": {},
   "outputs": [
    {
     "name": "stdout",
     "output_type": "stream",
     "text": [
      "B method_B2\n"
     ]
    }
   ],
   "source": [
    "d.method_B2()"
   ]
  },
  {
   "cell_type": "code",
   "execution_count": 5,
   "id": "03fb7f26",
   "metadata": {},
   "outputs": [
    {
     "ename": "NameError",
     "evalue": "name 'B' is not defined",
     "output_type": "error",
     "traceback": [
      "\u001b[0;31m---------------------------------------------------------------------------\u001b[0m",
      "\u001b[0;31mNameError\u001b[0m                                 Traceback (most recent call last)",
      "\u001b[0;32m/var/folders/h7/7nd2ltg17s3g53n9rt_q0s6c0000gn/T/ipykernel_25979/68419730.py\u001b[0m in \u001b[0;36m<module>\u001b[0;34m\u001b[0m\n\u001b[0;32m----> 1\u001b[0;31m \u001b[0mB\u001b[0m\u001b[0;34m.\u001b[0m\u001b[0mmethod_B1\u001b[0m\u001b[0;34m(\u001b[0m\u001b[0md\u001b[0m\u001b[0;34m)\u001b[0m\u001b[0;34m\u001b[0m\u001b[0;34m\u001b[0m\u001b[0m\n\u001b[0m",
      "\u001b[0;31mNameError\u001b[0m: name 'B' is not defined"
     ]
    }
   ],
   "source": [
    "B.method_B1(d)"
   ]
  }
 ],
 "metadata": {
  "kernelspec": {
   "display_name": "Python 3 (ipykernel)",
   "language": "python",
   "name": "python3"
  },
  "language_info": {
   "codemirror_mode": {
    "name": "ipython",
    "version": 3
   },
   "file_extension": ".py",
   "mimetype": "text/x-python",
   "name": "python",
   "nbconvert_exporter": "python",
   "pygments_lexer": "ipython3",
   "version": "3.9.13"
  }
 },
 "nbformat": 4,
 "nbformat_minor": 5
}
